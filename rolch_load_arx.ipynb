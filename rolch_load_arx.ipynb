{
 "cells": [
  {
   "cell_type": "code",
   "execution_count": 1,
   "metadata": {},
   "outputs": [],
   "source": [
    "import polars as pl\n",
    "# import polars_ols as pls\n",
    "import pandas as pd\n",
    "import numpy as np\n",
    "import rolch\n",
    "\n",
    "from datetime import datetime\n",
    "import matplotlib.pyplot as plt"
   ]
  },
  {
   "cell_type": "code",
   "execution_count": 2,
   "metadata": {},
   "outputs": [
    {
     "data": {
      "text/html": [
       "<div><style>\n",
       ".dataframe > thead > tr,\n",
       ".dataframe > tbody > tr {\n",
       "  text-align: right;\n",
       "  white-space: pre-wrap;\n",
       "}\n",
       "</style>\n",
       "<small>shape: (76_608, 13)</small><table border=\"1\" class=\"dataframe\"><thead><tr><th>Date</th><th>Hour</th><th>Price</th><th>Load_DA</th><th>Load_Act</th><th>Solar_DA</th><th>Solar_Act</th><th>WindOn_DA</th><th>WindOn_Act</th><th>WindOff_DA</th><th>WindOff_Act</th><th>Temp_DA</th><th>Year</th></tr><tr><td>i64</td><td>i64</td><td>f64</td><td>f64</td><td>f64</td><td>f64</td><td>f64</td><td>f64</td><td>f64</td><td>f64</td><td>f64</td><td>f64</td><td>i64</td></tr></thead><tbody><tr><td>20150105</td><td>0</td><td>22.34</td><td>43.17617</td><td>46.66787</td><td>0.0</td><td>0.0</td><td>10.00974</td><td>12.71664</td><td>0.19212</td><td>0.47802</td><td>null</td><td>2015</td></tr><tr><td>20150105</td><td>1</td><td>17.93</td><td>41.59758</td><td>44.62704</td><td>0.0</td><td>0.0</td><td>10.28754</td><td>12.5964</td><td>0.19238</td><td>0.46855</td><td>null</td><td>2015</td></tr><tr><td>20150105</td><td>2</td><td>15.17</td><td>40.42159</td><td>43.63534</td><td>0.0</td><td>0.0</td><td>10.41837</td><td>12.81819</td><td>0.195</td><td>0.46556</td><td>null</td><td>2015</td></tr><tr><td>20150105</td><td>3</td><td>16.38</td><td>40.40436</td><td>43.68339</td><td>0.0</td><td>0.0</td><td>10.6018</td><td>13.01156</td><td>0.19362</td><td>0.45402</td><td>null</td><td>2015</td></tr><tr><td>20150105</td><td>4</td><td>17.38</td><td>41.34813</td><td>44.96917</td><td>0.0</td><td>0.0</td><td>10.80991</td><td>13.54185</td><td>0.18762</td><td>0.45748</td><td>null</td><td>2015</td></tr><tr><td>&hellip;</td><td>&hellip;</td><td>&hellip;</td><td>&hellip;</td><td>&hellip;</td><td>&hellip;</td><td>&hellip;</td><td>&hellip;</td><td>&hellip;</td><td>&hellip;</td><td>&hellip;</td><td>&hellip;</td><td>&hellip;</td></tr><tr><td>20231001</td><td>19</td><td>130.0</td><td>45.85029</td><td>48.01121</td><td>0.01088</td><td>0.00331</td><td>7.94233</td><td>5.62464</td><td>2.78673</td><td>2.60925</td><td>18.88</td><td>2023</td></tr><tr><td>20231001</td><td>20</td><td>130.0</td><td>44.79807</td><td>46.51472</td><td>0.0</td><td>0.0</td><td>8.20989</td><td>6.38471</td><td>2.47612</td><td>2.09245</td><td>17.76</td><td>2023</td></tr><tr><td>20231001</td><td>21</td><td>115.16</td><td>42.82068</td><td>43.97374</td><td>0.0</td><td>0.0</td><td>8.36224</td><td>6.97915</td><td>2.22223</td><td>2.03959</td><td>17.0</td><td>2023</td></tr><tr><td>20231001</td><td>22</td><td>106.62</td><td>41.27068</td><td>42.17465</td><td>0.0</td><td>0.0</td><td>8.36047</td><td>7.16146</td><td>2.06008</td><td>1.8885</td><td>16.22</td><td>2023</td></tr><tr><td>20231001</td><td>23</td><td>99.97</td><td>38.9271</td><td>39.66824</td><td>0.0</td><td>0.0</td><td>8.26506</td><td>7.10472</td><td>1.94609</td><td>1.93003</td><td>15.6</td><td>2023</td></tr></tbody></table></div>"
      ],
      "text/plain": [
       "shape: (76_608, 13)\n",
       "┌──────────┬──────┬────────┬──────────┬───┬────────────┬─────────────┬─────────┬──────┐\n",
       "│ Date     ┆ Hour ┆ Price  ┆ Load_DA  ┆ … ┆ WindOff_DA ┆ WindOff_Act ┆ Temp_DA ┆ Year │\n",
       "│ ---      ┆ ---  ┆ ---    ┆ ---      ┆   ┆ ---        ┆ ---         ┆ ---     ┆ ---  │\n",
       "│ i64      ┆ i64  ┆ f64    ┆ f64      ┆   ┆ f64        ┆ f64         ┆ f64     ┆ i64  │\n",
       "╞══════════╪══════╪════════╪══════════╪═══╪════════════╪═════════════╪═════════╪══════╡\n",
       "│ 20150105 ┆ 0    ┆ 22.34  ┆ 43.17617 ┆ … ┆ 0.19212    ┆ 0.47802     ┆ null    ┆ 2015 │\n",
       "│ 20150105 ┆ 1    ┆ 17.93  ┆ 41.59758 ┆ … ┆ 0.19238    ┆ 0.46855     ┆ null    ┆ 2015 │\n",
       "│ 20150105 ┆ 2    ┆ 15.17  ┆ 40.42159 ┆ … ┆ 0.195      ┆ 0.46556     ┆ null    ┆ 2015 │\n",
       "│ 20150105 ┆ 3    ┆ 16.38  ┆ 40.40436 ┆ … ┆ 0.19362    ┆ 0.45402     ┆ null    ┆ 2015 │\n",
       "│ 20150105 ┆ 4    ┆ 17.38  ┆ 41.34813 ┆ … ┆ 0.18762    ┆ 0.45748     ┆ null    ┆ 2015 │\n",
       "│ …        ┆ …    ┆ …      ┆ …        ┆ … ┆ …          ┆ …           ┆ …       ┆ …    │\n",
       "│ 20231001 ┆ 19   ┆ 130.0  ┆ 45.85029 ┆ … ┆ 2.78673    ┆ 2.60925     ┆ 18.88   ┆ 2023 │\n",
       "│ 20231001 ┆ 20   ┆ 130.0  ┆ 44.79807 ┆ … ┆ 2.47612    ┆ 2.09245     ┆ 17.76   ┆ 2023 │\n",
       "│ 20231001 ┆ 21   ┆ 115.16 ┆ 42.82068 ┆ … ┆ 2.22223    ┆ 2.03959     ┆ 17.0    ┆ 2023 │\n",
       "│ 20231001 ┆ 22   ┆ 106.62 ┆ 41.27068 ┆ … ┆ 2.06008    ┆ 1.8885      ┆ 16.22   ┆ 2023 │\n",
       "│ 20231001 ┆ 23   ┆ 99.97  ┆ 38.9271  ┆ … ┆ 1.94609    ┆ 1.93003     ┆ 15.6    ┆ 2023 │\n",
       "└──────────┴──────┴────────┴──────────┴───┴────────────┴─────────────┴─────────┴──────┘"
      ]
     },
     "execution_count": 2,
     "metadata": {},
     "output_type": "execute_result"
    }
   ],
   "source": [
    "data_full = pl.read_csv('DE_prep.csv').with_columns(pl.col('Temp_DA').cast(pl.Float64))\n",
    "data_full"
   ]
  },
  {
   "cell_type": "code",
   "execution_count": 3,
   "metadata": {},
   "outputs": [
    {
     "data": {
      "text/html": [
       "<div><style>\n",
       ".dataframe > thead > tr,\n",
       ".dataframe > tbody > tr {\n",
       "  text-align: right;\n",
       "  white-space: pre-wrap;\n",
       "}\n",
       "</style>\n",
       "<small>shape: (23_832, 13)</small><table border=\"1\" class=\"dataframe\"><thead><tr><th>Date</th><th>Hour</th><th>Price</th><th>Load_DA</th><th>Load_Act</th><th>Solar_DA</th><th>Solar_Act</th><th>WindOn_DA</th><th>WindOn_Act</th><th>WindOff_DA</th><th>WindOff_Act</th><th>Temp_DA</th><th>Year</th></tr><tr><td>i64</td><td>i64</td><td>f64</td><td>f64</td><td>f64</td><td>f64</td><td>f64</td><td>f64</td><td>f64</td><td>f64</td><td>f64</td><td>f64</td><td>i64</td></tr></thead><tbody><tr><td>20210112</td><td>0</td><td>18.96</td><td>50.84298</td><td>59.75995</td><td>0.0</td><td>0.0</td><td>33.522</td><td>32.99134</td><td>5.2638</td><td>4.71488</td><td>1.0</td><td>2021</td></tr><tr><td>20210112</td><td>1</td><td>15.82</td><td>48.54194</td><td>58.14762</td><td>0.0</td><td>0.0</td><td>33.86269</td><td>33.58869</td><td>5.08334</td><td>4.63254</td><td>1.16</td><td>2021</td></tr><tr><td>20210112</td><td>2</td><td>19.0</td><td>47.89552</td><td>56.97078</td><td>0.0</td><td>0.0</td><td>33.9029</td><td>32.90247</td><td>4.56703</td><td>3.70295</td><td>1.26</td><td>2021</td></tr><tr><td>20210112</td><td>3</td><td>24.14</td><td>47.92218</td><td>56.91989</td><td>0.0</td><td>0.0</td><td>33.31623</td><td>31.5854</td><td>4.16626</td><td>3.60216</td><td>1.46</td><td>2021</td></tr><tr><td>20210112</td><td>4</td><td>27.0</td><td>49.06122</td><td>58.05438</td><td>0.0</td><td>0.0</td><td>32.03167</td><td>30.1555</td><td>4.05303</td><td>3.23646</td><td>1.68</td><td>2021</td></tr><tr><td>&hellip;</td><td>&hellip;</td><td>&hellip;</td><td>&hellip;</td><td>&hellip;</td><td>&hellip;</td><td>&hellip;</td><td>&hellip;</td><td>&hellip;</td><td>&hellip;</td><td>&hellip;</td><td>&hellip;</td><td>&hellip;</td></tr><tr><td>20231001</td><td>19</td><td>130.0</td><td>45.85029</td><td>48.01121</td><td>0.01088</td><td>0.00331</td><td>7.94233</td><td>5.62464</td><td>2.78673</td><td>2.60925</td><td>18.88</td><td>2023</td></tr><tr><td>20231001</td><td>20</td><td>130.0</td><td>44.79807</td><td>46.51472</td><td>0.0</td><td>0.0</td><td>8.20989</td><td>6.38471</td><td>2.47612</td><td>2.09245</td><td>17.76</td><td>2023</td></tr><tr><td>20231001</td><td>21</td><td>115.16</td><td>42.82068</td><td>43.97374</td><td>0.0</td><td>0.0</td><td>8.36224</td><td>6.97915</td><td>2.22223</td><td>2.03959</td><td>17.0</td><td>2023</td></tr><tr><td>20231001</td><td>22</td><td>106.62</td><td>41.27068</td><td>42.17465</td><td>0.0</td><td>0.0</td><td>8.36047</td><td>7.16146</td><td>2.06008</td><td>1.8885</td><td>16.22</td><td>2023</td></tr><tr><td>20231001</td><td>23</td><td>99.97</td><td>38.9271</td><td>39.66824</td><td>0.0</td><td>0.0</td><td>8.26506</td><td>7.10472</td><td>1.94609</td><td>1.93003</td><td>15.6</td><td>2023</td></tr></tbody></table></div>"
      ],
      "text/plain": [
       "shape: (23_832, 13)\n",
       "┌──────────┬──────┬────────┬──────────┬───┬────────────┬─────────────┬─────────┬──────┐\n",
       "│ Date     ┆ Hour ┆ Price  ┆ Load_DA  ┆ … ┆ WindOff_DA ┆ WindOff_Act ┆ Temp_DA ┆ Year │\n",
       "│ ---      ┆ ---  ┆ ---    ┆ ---      ┆   ┆ ---        ┆ ---         ┆ ---     ┆ ---  │\n",
       "│ i64      ┆ i64  ┆ f64    ┆ f64      ┆   ┆ f64        ┆ f64         ┆ f64     ┆ i64  │\n",
       "╞══════════╪══════╪════════╪══════════╪═══╪════════════╪═════════════╪═════════╪══════╡\n",
       "│ 20210112 ┆ 0    ┆ 18.96  ┆ 50.84298 ┆ … ┆ 5.2638     ┆ 4.71488     ┆ 1.0     ┆ 2021 │\n",
       "│ 20210112 ┆ 1    ┆ 15.82  ┆ 48.54194 ┆ … ┆ 5.08334    ┆ 4.63254     ┆ 1.16    ┆ 2021 │\n",
       "│ 20210112 ┆ 2    ┆ 19.0   ┆ 47.89552 ┆ … ┆ 4.56703    ┆ 3.70295     ┆ 1.26    ┆ 2021 │\n",
       "│ 20210112 ┆ 3    ┆ 24.14  ┆ 47.92218 ┆ … ┆ 4.16626    ┆ 3.60216     ┆ 1.46    ┆ 2021 │\n",
       "│ 20210112 ┆ 4    ┆ 27.0   ┆ 49.06122 ┆ … ┆ 4.05303    ┆ 3.23646     ┆ 1.68    ┆ 2021 │\n",
       "│ …        ┆ …    ┆ …      ┆ …        ┆ … ┆ …          ┆ …           ┆ …       ┆ …    │\n",
       "│ 20231001 ┆ 19   ┆ 130.0  ┆ 45.85029 ┆ … ┆ 2.78673    ┆ 2.60925     ┆ 18.88   ┆ 2023 │\n",
       "│ 20231001 ┆ 20   ┆ 130.0  ┆ 44.79807 ┆ … ┆ 2.47612    ┆ 2.09245     ┆ 17.76   ┆ 2023 │\n",
       "│ 20231001 ┆ 21   ┆ 115.16 ┆ 42.82068 ┆ … ┆ 2.22223    ┆ 2.03959     ┆ 17.0    ┆ 2023 │\n",
       "│ 20231001 ┆ 22   ┆ 106.62 ┆ 41.27068 ┆ … ┆ 2.06008    ┆ 1.8885      ┆ 16.22   ┆ 2023 │\n",
       "│ 20231001 ┆ 23   ┆ 99.97  ┆ 38.9271  ┆ … ┆ 1.94609    ┆ 1.93003     ┆ 15.6    ┆ 2023 │\n",
       "└──────────┴──────┴────────┴──────────┴───┴────────────┴─────────────┴─────────┴──────┘"
      ]
     },
     "execution_count": 3,
     "metadata": {},
     "output_type": "execute_result"
    }
   ],
   "source": [
    "# cut data\n",
    "data_full = data_full[52776:,:]\n",
    "data_full"
   ]
  },
  {
   "cell_type": "code",
   "execution_count": 18,
   "metadata": {},
   "outputs": [],
   "source": [
    "# plt.plot(data_full['Load_Act'])\n",
    "# plt.show()"
   ]
  },
  {
   "cell_type": "code",
   "execution_count": 5,
   "metadata": {},
   "outputs": [
    {
     "name": "stdout",
     "output_type": "stream",
     "text": [
      "909\n",
      "672\n",
      "1344\n"
     ]
    }
   ],
   "source": [
    "endd = [56*24,84*24]\n",
    "startd = [(endd[-1]-el) for el in endd]\n",
    "\n",
    "# no. of days to be predicted\n",
    "Nd = int(len(data_full)/24 - endd[-1]/24)\n",
    "print(Nd)\n",
    "\n",
    "# select one\n",
    "startd = startd[0]\n",
    "endd = endd[0]\n",
    "print(startd)\n",
    "print(endd)"
   ]
  },
  {
   "cell_type": "code",
   "execution_count": 6,
   "metadata": {},
   "outputs": [],
   "source": [
    "def dummies(df: pl.DataFrame, date_column: str, date_format: str) -> pl.DataFrame:\n",
    "    \n",
    "    # prepare polars series with weekdays as numbers\n",
    "    weekdays = df[date_column].cast(pl.Utf8).str.strptime(pl.Date, date_format).dt.weekday()\n",
    "\n",
    "    # add dummy columns to dataframe\n",
    "    df_with_dummies = (\n",
    "    df.with_columns((weekdays==1).cast(int).alias('mon'))\n",
    "    .with_columns((weekdays==2).cast(int).alias('tue'))\n",
    "    .with_columns((weekdays==3).cast(int).alias('wed'))\n",
    "    .with_columns((weekdays==4).cast(int).alias('thu'))\n",
    "    .with_columns((weekdays==5).cast(int).alias('fri'))\n",
    "    .with_columns((weekdays==6).cast(int).alias('sat'))\n",
    "    .with_columns((weekdays==7).cast(int).alias('sun'))\n",
    "    )\n",
    "\n",
    "    return df_with_dummies"
   ]
  },
  {
   "cell_type": "code",
   "execution_count": 7,
   "metadata": {},
   "outputs": [
    {
     "data": {
      "text/html": [
       "<div><style>\n",
       ".dataframe > thead > tr,\n",
       ".dataframe > tbody > tr {\n",
       "  text-align: right;\n",
       "  white-space: pre-wrap;\n",
       "}\n",
       "</style>\n",
       "<small>shape: (23_832, 20)</small><table border=\"1\" class=\"dataframe\"><thead><tr><th>Date</th><th>Hour</th><th>Price</th><th>Load_DA</th><th>Load_Act</th><th>Solar_DA</th><th>Solar_Act</th><th>WindOn_DA</th><th>WindOn_Act</th><th>WindOff_DA</th><th>WindOff_Act</th><th>Temp_DA</th><th>Year</th><th>mon</th><th>tue</th><th>wed</th><th>thu</th><th>fri</th><th>sat</th><th>sun</th></tr><tr><td>i64</td><td>i64</td><td>f64</td><td>f64</td><td>f64</td><td>f64</td><td>f64</td><td>f64</td><td>f64</td><td>f64</td><td>f64</td><td>f64</td><td>i64</td><td>i64</td><td>i64</td><td>i64</td><td>i64</td><td>i64</td><td>i64</td><td>i64</td></tr></thead><tbody><tr><td>20210112</td><td>0</td><td>18.96</td><td>50.84298</td><td>59.75995</td><td>0.0</td><td>0.0</td><td>33.522</td><td>32.99134</td><td>5.2638</td><td>4.71488</td><td>1.0</td><td>2021</td><td>0</td><td>1</td><td>0</td><td>0</td><td>0</td><td>0</td><td>0</td></tr><tr><td>20210112</td><td>1</td><td>15.82</td><td>48.54194</td><td>58.14762</td><td>0.0</td><td>0.0</td><td>33.86269</td><td>33.58869</td><td>5.08334</td><td>4.63254</td><td>1.16</td><td>2021</td><td>0</td><td>1</td><td>0</td><td>0</td><td>0</td><td>0</td><td>0</td></tr><tr><td>20210112</td><td>2</td><td>19.0</td><td>47.89552</td><td>56.97078</td><td>0.0</td><td>0.0</td><td>33.9029</td><td>32.90247</td><td>4.56703</td><td>3.70295</td><td>1.26</td><td>2021</td><td>0</td><td>1</td><td>0</td><td>0</td><td>0</td><td>0</td><td>0</td></tr><tr><td>20210112</td><td>3</td><td>24.14</td><td>47.92218</td><td>56.91989</td><td>0.0</td><td>0.0</td><td>33.31623</td><td>31.5854</td><td>4.16626</td><td>3.60216</td><td>1.46</td><td>2021</td><td>0</td><td>1</td><td>0</td><td>0</td><td>0</td><td>0</td><td>0</td></tr><tr><td>20210112</td><td>4</td><td>27.0</td><td>49.06122</td><td>58.05438</td><td>0.0</td><td>0.0</td><td>32.03167</td><td>30.1555</td><td>4.05303</td><td>3.23646</td><td>1.68</td><td>2021</td><td>0</td><td>1</td><td>0</td><td>0</td><td>0</td><td>0</td><td>0</td></tr><tr><td>&hellip;</td><td>&hellip;</td><td>&hellip;</td><td>&hellip;</td><td>&hellip;</td><td>&hellip;</td><td>&hellip;</td><td>&hellip;</td><td>&hellip;</td><td>&hellip;</td><td>&hellip;</td><td>&hellip;</td><td>&hellip;</td><td>&hellip;</td><td>&hellip;</td><td>&hellip;</td><td>&hellip;</td><td>&hellip;</td><td>&hellip;</td><td>&hellip;</td></tr><tr><td>20231001</td><td>19</td><td>130.0</td><td>45.85029</td><td>48.01121</td><td>0.01088</td><td>0.00331</td><td>7.94233</td><td>5.62464</td><td>2.78673</td><td>2.60925</td><td>18.88</td><td>2023</td><td>0</td><td>0</td><td>0</td><td>0</td><td>0</td><td>0</td><td>1</td></tr><tr><td>20231001</td><td>20</td><td>130.0</td><td>44.79807</td><td>46.51472</td><td>0.0</td><td>0.0</td><td>8.20989</td><td>6.38471</td><td>2.47612</td><td>2.09245</td><td>17.76</td><td>2023</td><td>0</td><td>0</td><td>0</td><td>0</td><td>0</td><td>0</td><td>1</td></tr><tr><td>20231001</td><td>21</td><td>115.16</td><td>42.82068</td><td>43.97374</td><td>0.0</td><td>0.0</td><td>8.36224</td><td>6.97915</td><td>2.22223</td><td>2.03959</td><td>17.0</td><td>2023</td><td>0</td><td>0</td><td>0</td><td>0</td><td>0</td><td>0</td><td>1</td></tr><tr><td>20231001</td><td>22</td><td>106.62</td><td>41.27068</td><td>42.17465</td><td>0.0</td><td>0.0</td><td>8.36047</td><td>7.16146</td><td>2.06008</td><td>1.8885</td><td>16.22</td><td>2023</td><td>0</td><td>0</td><td>0</td><td>0</td><td>0</td><td>0</td><td>1</td></tr><tr><td>20231001</td><td>23</td><td>99.97</td><td>38.9271</td><td>39.66824</td><td>0.0</td><td>0.0</td><td>8.26506</td><td>7.10472</td><td>1.94609</td><td>1.93003</td><td>15.6</td><td>2023</td><td>0</td><td>0</td><td>0</td><td>0</td><td>0</td><td>0</td><td>1</td></tr></tbody></table></div>"
      ],
      "text/plain": [
       "shape: (23_832, 20)\n",
       "┌──────────┬──────┬────────┬──────────┬───┬─────┬─────┬─────┬─────┐\n",
       "│ Date     ┆ Hour ┆ Price  ┆ Load_DA  ┆ … ┆ thu ┆ fri ┆ sat ┆ sun │\n",
       "│ ---      ┆ ---  ┆ ---    ┆ ---      ┆   ┆ --- ┆ --- ┆ --- ┆ --- │\n",
       "│ i64      ┆ i64  ┆ f64    ┆ f64      ┆   ┆ i64 ┆ i64 ┆ i64 ┆ i64 │\n",
       "╞══════════╪══════╪════════╪══════════╪═══╪═════╪═════╪═════╪═════╡\n",
       "│ 20210112 ┆ 0    ┆ 18.96  ┆ 50.84298 ┆ … ┆ 0   ┆ 0   ┆ 0   ┆ 0   │\n",
       "│ 20210112 ┆ 1    ┆ 15.82  ┆ 48.54194 ┆ … ┆ 0   ┆ 0   ┆ 0   ┆ 0   │\n",
       "│ 20210112 ┆ 2    ┆ 19.0   ┆ 47.89552 ┆ … ┆ 0   ┆ 0   ┆ 0   ┆ 0   │\n",
       "│ 20210112 ┆ 3    ┆ 24.14  ┆ 47.92218 ┆ … ┆ 0   ┆ 0   ┆ 0   ┆ 0   │\n",
       "│ 20210112 ┆ 4    ┆ 27.0   ┆ 49.06122 ┆ … ┆ 0   ┆ 0   ┆ 0   ┆ 0   │\n",
       "│ …        ┆ …    ┆ …      ┆ …        ┆ … ┆ …   ┆ …   ┆ …   ┆ …   │\n",
       "│ 20231001 ┆ 19   ┆ 130.0  ┆ 45.85029 ┆ … ┆ 0   ┆ 0   ┆ 0   ┆ 1   │\n",
       "│ 20231001 ┆ 20   ┆ 130.0  ┆ 44.79807 ┆ … ┆ 0   ┆ 0   ┆ 0   ┆ 1   │\n",
       "│ 20231001 ┆ 21   ┆ 115.16 ┆ 42.82068 ┆ … ┆ 0   ┆ 0   ┆ 0   ┆ 1   │\n",
       "│ 20231001 ┆ 22   ┆ 106.62 ┆ 41.27068 ┆ … ┆ 0   ┆ 0   ┆ 0   ┆ 1   │\n",
       "│ 20231001 ┆ 23   ┆ 99.97  ┆ 38.9271  ┆ … ┆ 0   ┆ 0   ┆ 0   ┆ 1   │\n",
       "└──────────┴──────┴────────┴──────────┴───┴─────┴─────┴─────┴─────┘"
      ]
     },
     "execution_count": 7,
     "metadata": {},
     "output_type": "execute_result"
    }
   ],
   "source": [
    "data_full = dummies(data_full,'Date',\"%Y%m%d\")\n",
    "data_full"
   ]
  },
  {
   "cell_type": "code",
   "execution_count": 8,
   "metadata": {},
   "outputs": [],
   "source": [
    "def autoreg(df: pl.DataFrame, cols: list, lags: list):\n",
    "\n",
    "    # x\n",
    "    x = pl.DataFrame()\n",
    "    for c in cols:\n",
    "        vec = df.select(c)\n",
    "        for i in range(len(lags)):\n",
    "            pl_series = pl.Series(name=f'x_{c}_{lags[i]}',values=vec[(max(lags)-lags[i]):len(vec)-lags[i]])\n",
    "            x = pl.concat([x, pl_series.to_frame()], how=\"horizontal\")\n",
    "    \n",
    "    return x"
   ]
  },
  {
   "cell_type": "code",
   "execution_count": 9,
   "metadata": {},
   "outputs": [],
   "source": [
    "# d=0\n",
    "# # j=endd+24\n",
    "# cal_window = data_full.slice(startd,endd+24+24*d) # data_full.slice(j-24*8,9*24)\n",
    "\n",
    "def prepare_data_ARX(cal_window: pl.DataFrame, d: int, endd: int): \n",
    "    if d==0:\n",
    "        x_all = np.full((endd - 7 * 24 + 24 + 24*d, 7 * 24), np.nan)\n",
    "    else:\n",
    "        x_all = np.full((2*24, 7 * 24), np.nan)\n",
    "\n",
    "    dummies = cal_window[7*24:,'mon':'sun'].to_numpy()\n",
    "\n",
    "    # prepare Load\n",
    "    load = autoreg(cal_window,['Load_DA','Load_Act'],[1*24,2*24,7*24])\n",
    "    # change the last 14 values of x_Load_Act_24 column to \n",
    "    query = (load.with_columns(\n",
    "        pl.when(pl.arange(0, load.height) >= (load.height - 13))\n",
    "        .then(pl.col(\"x_Load_DA_24\"))\n",
    "        .otherwise(pl.col(\"x_Load_Act_24\"))\n",
    "        .alias(\"x_Load_Act_24\")\n",
    "    ).drop([x for x in load.columns if 'DA' in x])).lazy()\n",
    "    load = query.collect()\n",
    "\n",
    "    # prepare other columns\n",
    "    fundamentals = autoreg(cal_window,['Solar_DA','WindOn_DA','WindOff_DA','Temp_DA'],[0])[168:,:]\n",
    "\n",
    "    lags_all = np.concatenate((load.to_numpy(),fundamentals.to_numpy()),axis=1)\n",
    "\n",
    "    x_all = np.concatenate((cal_window[7*24:,'Load_Act'].to_numpy().reshape(-1, 1),lags_all,dummies),axis=1)\n",
    "\n",
    "    x = x_all[:-24,:]\n",
    "    x_fut = x_all[-24:,1:]\n",
    "\n",
    "    return x,x_fut"
   ]
  },
  {
   "cell_type": "code",
   "execution_count": 10,
   "metadata": {},
   "outputs": [],
   "source": [
    "# d=0\n",
    "# data_roll = data_full.slice(startd,endd+24)\n",
    "# data_roll"
   ]
  },
  {
   "cell_type": "code",
   "execution_count": 11,
   "metadata": {},
   "outputs": [],
   "source": [
    "# x,x_fut = prepare_data_ARX(cal_window=data_roll,d=d,endd=endd)"
   ]
  },
  {
   "cell_type": "code",
   "execution_count": 12,
   "metadata": {},
   "outputs": [],
   "source": [
    "# pl.DataFrame(x_fut).null_count()"
   ]
  },
  {
   "cell_type": "code",
   "execution_count": 13,
   "metadata": {},
   "outputs": [
    {
     "name": "stderr",
     "output_type": "stream",
     "text": [
      "c:\\Users\\Katarzyna Chęć\\Documents\\PhD research\\2. GAMLSS for load\\ROLCH load\\.venv\\lib\\site-packages\\rolch\\scaler.py:62: RuntimeWarning: invalid value encountered in divide\n",
      "  out[:, self.to_scale] = (x[:, self.to_scale] - self.m) / np.sqrt(self.v)\n"
     ]
    },
    {
     "ename": "LinAlgError",
     "evalue": "Array must not contain infs or NaNs.",
     "output_type": "error",
     "traceback": [
      "\u001b[1;31m---------------------------------------------------------------------------\u001b[0m",
      "\u001b[1;31mLinAlgError\u001b[0m                               Traceback (most recent call last)",
      "Cell \u001b[1;32mIn[13], line 50\u001b[0m\n\u001b[0;32m     38\u001b[0m \u001b[38;5;28;01mif\u001b[39;00m d\u001b[38;5;241m==\u001b[39m\u001b[38;5;241m0\u001b[39m:\n\u001b[0;32m     39\u001b[0m     online_gamlss_ols \u001b[38;5;241m=\u001b[39m rolch\u001b[38;5;241m.\u001b[39mOnlineGamlss(\n\u001b[0;32m     40\u001b[0m         distribution\u001b[38;5;241m=\u001b[39mrolch\u001b[38;5;241m.\u001b[39mDistributionNormal(),\n\u001b[0;32m     41\u001b[0m         method\u001b[38;5;241m=\u001b[39m\u001b[38;5;124m\"\u001b[39m\u001b[38;5;124mols\u001b[39m\u001b[38;5;124m\"\u001b[39m,\n\u001b[1;32m   (...)\u001b[0m\n\u001b[0;32m     47\u001b[0m         max_it_inner \u001b[38;5;241m=\u001b[39m \u001b[38;5;241m10\u001b[39m\n\u001b[0;32m     48\u001b[0m     )\n\u001b[1;32m---> 50\u001b[0m     \u001b[43monline_gamlss_ols\u001b[49m\u001b[38;5;241;43m.\u001b[39;49m\u001b[43mfit\u001b[49m\u001b[43m(\u001b[49m\u001b[43mX\u001b[49m\u001b[43m,\u001b[49m\u001b[43m \u001b[49m\u001b[43my\u001b[49m\u001b[43m)\u001b[49m\n\u001b[0;32m     52\u001b[0m     hours_ols[h] \u001b[38;5;241m=\u001b[39m online_gamlss_ols\n\u001b[0;32m     54\u001b[0m \u001b[38;5;28;01melse\u001b[39;00m:\n",
      "File \u001b[1;32mc:\\Users\\Katarzyna Chęć\\Documents\\PhD research\\2. GAMLSS for load\\ROLCH load\\.venv\\lib\\site-packages\\rolch\\online_gamlss.py:408\u001b[0m, in \u001b[0;36mOnlineGamlss.fit\u001b[1;34m(self, X, y, sample_weight)\u001b[0m\n\u001b[0;32m    394\u001b[0m \u001b[38;5;28mself\u001b[39m\u001b[38;5;241m.\u001b[39mmean_of_weights \u001b[38;5;241m=\u001b[39m {}\n\u001b[0;32m    396\u001b[0m \u001b[38;5;66;03m# TODO: Refactor this. Almost everything can be written into class attributes during fit!\u001b[39;00m\n\u001b[0;32m    397\u001b[0m (\n\u001b[0;32m    398\u001b[0m     \u001b[38;5;28mself\u001b[39m\u001b[38;5;241m.\u001b[39mbetas,\n\u001b[0;32m    399\u001b[0m     \u001b[38;5;28mself\u001b[39m\u001b[38;5;241m.\u001b[39mbeta_path,\n\u001b[0;32m    400\u001b[0m     \u001b[38;5;28mself\u001b[39m\u001b[38;5;241m.\u001b[39mfv,\n\u001b[0;32m    401\u001b[0m     \u001b[38;5;28mself\u001b[39m\u001b[38;5;241m.\u001b[39mglobal_dev,\n\u001b[0;32m    402\u001b[0m     \u001b[38;5;28mself\u001b[39m\u001b[38;5;241m.\u001b[39miteration_outer,\n\u001b[0;32m    403\u001b[0m     \u001b[38;5;28mself\u001b[39m\u001b[38;5;241m.\u001b[39mx_gram,\n\u001b[0;32m    404\u001b[0m     \u001b[38;5;28mself\u001b[39m\u001b[38;5;241m.\u001b[39my_gram,\n\u001b[0;32m    405\u001b[0m     \u001b[38;5;28mself\u001b[39m\u001b[38;5;241m.\u001b[39mrss,\n\u001b[0;32m    406\u001b[0m     \u001b[38;5;28mself\u001b[39m\u001b[38;5;241m.\u001b[39mlambda_path,\n\u001b[0;32m    407\u001b[0m     \u001b[38;5;28mself\u001b[39m\u001b[38;5;241m.\u001b[39mlambda_max,\n\u001b[1;32m--> 408\u001b[0m ) \u001b[38;5;241m=\u001b[39m \u001b[38;5;28;43mself\u001b[39;49m\u001b[38;5;241;43m.\u001b[39;49m\u001b[43m_outer_fit\u001b[49m\u001b[43m(\u001b[49m\n\u001b[0;32m    409\u001b[0m \u001b[43m    \u001b[49m\u001b[43mX\u001b[49m\u001b[38;5;241;43m=\u001b[39;49m\u001b[43mX_dict\u001b[49m\u001b[43m,\u001b[49m\n\u001b[0;32m    410\u001b[0m \u001b[43m    \u001b[49m\u001b[43my\u001b[49m\u001b[38;5;241;43m=\u001b[39;49m\u001b[43my\u001b[49m\u001b[43m,\u001b[49m\n\u001b[0;32m    411\u001b[0m \u001b[43m    \u001b[49m\u001b[43mw\u001b[49m\u001b[38;5;241;43m=\u001b[39;49m\u001b[43mw\u001b[49m\u001b[43m,\u001b[49m\n\u001b[0;32m    412\u001b[0m \u001b[43m    \u001b[49m\u001b[43mx_gram\u001b[49m\u001b[38;5;241;43m=\u001b[39;49m\u001b[43mx_gram\u001b[49m\u001b[43m,\u001b[49m\n\u001b[0;32m    413\u001b[0m \u001b[43m    \u001b[49m\u001b[43my_gram\u001b[49m\u001b[38;5;241;43m=\u001b[39;49m\u001b[43my_gram\u001b[49m\u001b[43m,\u001b[49m\n\u001b[0;32m    414\u001b[0m \u001b[43m    \u001b[49m\u001b[43mbeta_path\u001b[49m\u001b[38;5;241;43m=\u001b[39;49m\u001b[43mbeta_path\u001b[49m\u001b[43m,\u001b[49m\n\u001b[0;32m    415\u001b[0m \u001b[43m    \u001b[49m\u001b[43mrss\u001b[49m\u001b[38;5;241;43m=\u001b[39;49m\u001b[43mrss\u001b[49m\u001b[43m,\u001b[49m\n\u001b[0;32m    416\u001b[0m \u001b[43m    \u001b[49m\u001b[43mlambda_max\u001b[49m\u001b[38;5;241;43m=\u001b[39;49m\u001b[43m{\u001b[49m\u001b[43m}\u001b[49m\u001b[43m,\u001b[49m\n\u001b[0;32m    417\u001b[0m \u001b[43m    \u001b[49m\u001b[43mlambda_path\u001b[49m\u001b[38;5;241;43m=\u001b[39;49m\u001b[43m{\u001b[49m\u001b[43m}\u001b[49m\u001b[43m,\u001b[49m\n\u001b[0;32m    418\u001b[0m \u001b[43m    \u001b[49m\u001b[43mfv\u001b[49m\u001b[38;5;241;43m=\u001b[39;49m\u001b[43mfv\u001b[49m\u001b[43m,\u001b[49m\n\u001b[0;32m    419\u001b[0m \u001b[43m\u001b[49m\u001b[43m)\u001b[49m\n",
      "File \u001b[1;32mc:\\Users\\Katarzyna Chęć\\Documents\\PhD research\\2. GAMLSS for load\\ROLCH load\\.venv\\lib\\site-packages\\rolch\\online_gamlss.py:616\u001b[0m, in \u001b[0;36mOnlineGamlss._outer_fit\u001b[1;34m(self, X, y, w, x_gram, y_gram, beta_path, rss, lambda_max, lambda_path, fv)\u001b[0m\n\u001b[0;32m    603\u001b[0m \u001b[38;5;28mself\u001b[39m\u001b[38;5;241m.\u001b[39mrss_iterations_inner[param][iteration_outer] \u001b[38;5;241m=\u001b[39m {}\n\u001b[0;32m    604\u001b[0m \u001b[38;5;28mself\u001b[39m\u001b[38;5;241m.\u001b[39mic_iterations_inner[param][iteration_outer] \u001b[38;5;241m=\u001b[39m {}\n\u001b[0;32m    606\u001b[0m (\n\u001b[0;32m    607\u001b[0m     fv,\n\u001b[0;32m    608\u001b[0m     global_dev,\n\u001b[0;32m    609\u001b[0m     betas[param],\n\u001b[0;32m    610\u001b[0m     beta_path[param],\n\u001b[0;32m    611\u001b[0m     x_gram,\n\u001b[0;32m    612\u001b[0m     y_gram,\n\u001b[0;32m    613\u001b[0m     rss[param],\n\u001b[0;32m    614\u001b[0m     lambda_max[param],\n\u001b[0;32m    615\u001b[0m     lambda_path[param],\n\u001b[1;32m--> 616\u001b[0m ) \u001b[38;5;241m=\u001b[39m \u001b[38;5;28;43mself\u001b[39;49m\u001b[38;5;241;43m.\u001b[39;49m\u001b[43m_inner_fit\u001b[49m\u001b[43m(\u001b[49m\n\u001b[0;32m    617\u001b[0m \u001b[43m    \u001b[49m\u001b[43mX\u001b[49m\u001b[38;5;241;43m=\u001b[39;49m\u001b[43mX\u001b[49m\u001b[43m,\u001b[49m\n\u001b[0;32m    618\u001b[0m \u001b[43m    \u001b[49m\u001b[43my\u001b[49m\u001b[38;5;241;43m=\u001b[39;49m\u001b[43my\u001b[49m\u001b[43m,\u001b[49m\n\u001b[0;32m    619\u001b[0m \u001b[43m    \u001b[49m\u001b[43mbeta_path\u001b[49m\u001b[38;5;241;43m=\u001b[39;49m\u001b[43mbeta_path\u001b[49m\u001b[43m[\u001b[49m\u001b[43mparam\u001b[49m\u001b[43m]\u001b[49m\u001b[43m,\u001b[49m\n\u001b[0;32m    620\u001b[0m \u001b[43m    \u001b[49m\u001b[43mfv\u001b[49m\u001b[38;5;241;43m=\u001b[39;49m\u001b[43mfv\u001b[49m\u001b[43m,\u001b[49m\n\u001b[0;32m    621\u001b[0m \u001b[43m    \u001b[49m\u001b[43mw\u001b[49m\u001b[38;5;241;43m=\u001b[39;49m\u001b[43mw\u001b[49m\u001b[43m,\u001b[49m\n\u001b[0;32m    622\u001b[0m \u001b[43m    \u001b[49m\u001b[43mx_gram\u001b[49m\u001b[38;5;241;43m=\u001b[39;49m\u001b[43mx_gram\u001b[49m\u001b[43m,\u001b[49m\n\u001b[0;32m    623\u001b[0m \u001b[43m    \u001b[49m\u001b[43my_gram\u001b[49m\u001b[38;5;241;43m=\u001b[39;49m\u001b[43my_gram\u001b[49m\u001b[43m,\u001b[49m\n\u001b[0;32m    624\u001b[0m \u001b[43m    \u001b[49m\u001b[43mparam\u001b[49m\u001b[38;5;241;43m=\u001b[39;49m\u001b[43mparam\u001b[49m\u001b[43m,\u001b[49m\n\u001b[0;32m    625\u001b[0m \u001b[43m    \u001b[49m\u001b[43miteration_outer\u001b[49m\u001b[38;5;241;43m=\u001b[39;49m\u001b[43miteration_outer\u001b[49m\u001b[43m,\u001b[49m\n\u001b[0;32m    626\u001b[0m \u001b[43m    \u001b[49m\u001b[43mdv\u001b[49m\u001b[38;5;241;43m=\u001b[39;49m\u001b[43mglobal_dev\u001b[49m\u001b[43m,\u001b[49m\n\u001b[0;32m    627\u001b[0m \u001b[43m    \u001b[49m\u001b[43mbetas\u001b[49m\u001b[38;5;241;43m=\u001b[39;49m\u001b[43mbetas\u001b[49m\u001b[43m,\u001b[49m\n\u001b[0;32m    628\u001b[0m \u001b[43m    \u001b[49m\u001b[43mrss\u001b[49m\u001b[38;5;241;43m=\u001b[39;49m\u001b[43mrss\u001b[49m\u001b[43m,\u001b[49m\n\u001b[0;32m    629\u001b[0m \u001b[43m    \u001b[49m\u001b[43mlambda_max\u001b[49m\u001b[38;5;241;43m=\u001b[39;49m\u001b[43mlambda_max\u001b[49m\u001b[43m,\u001b[49m\n\u001b[0;32m    630\u001b[0m \u001b[43m    \u001b[49m\u001b[43mlambda_path\u001b[49m\u001b[38;5;241;43m=\u001b[39;49m\u001b[43mlambda_path\u001b[49m\u001b[43m,\u001b[49m\n\u001b[0;32m    631\u001b[0m \u001b[43m\u001b[49m\u001b[43m)\u001b[49m\n\u001b[0;32m    633\u001b[0m \u001b[38;5;28mself\u001b[39m\u001b[38;5;241m.\u001b[39mbeta_iterations[param][iteration_outer] \u001b[38;5;241m=\u001b[39m betas[param]\n\u001b[0;32m    634\u001b[0m \u001b[38;5;28mself\u001b[39m\u001b[38;5;241m.\u001b[39mbeta_path_iterations[param][iteration_outer] \u001b[38;5;241m=\u001b[39m beta_path[param]\n",
      "File \u001b[1;32mc:\\Users\\Katarzyna Chęć\\Documents\\PhD research\\2. GAMLSS for load\\ROLCH load\\.venv\\lib\\site-packages\\rolch\\online_gamlss.py:708\u001b[0m, in \u001b[0;36mOnlineGamlss._inner_fit\u001b[1;34m(self, X, y, w, x_gram, y_gram, beta_path, fv, iteration_outer, param, rss, dv, betas, lambda_max, lambda_path)\u001b[0m\n\u001b[0;32m    705\u001b[0m wv \u001b[38;5;241m=\u001b[39m eta \u001b[38;5;241m+\u001b[39m dl1dp1 \u001b[38;5;241m/\u001b[39m (dr \u001b[38;5;241m*\u001b[39m wt)\n\u001b[0;32m    706\u001b[0m \u001b[38;5;66;03m## Update the X and Y Gramian and the weight\u001b[39;00m\n\u001b[1;32m--> 708\u001b[0m x_gram[param] \u001b[38;5;241m=\u001b[39m \u001b[38;5;28;43mself\u001b[39;49m\u001b[38;5;241;43m.\u001b[39;49m\u001b[43m_make_x_gram\u001b[49m\u001b[43m(\u001b[49m\u001b[43mx\u001b[49m\u001b[38;5;241;43m=\u001b[39;49m\u001b[43mX\u001b[49m\u001b[43m[\u001b[49m\u001b[43mparam\u001b[49m\u001b[43m]\u001b[49m\u001b[43m,\u001b[49m\u001b[43m \u001b[49m\u001b[43mw\u001b[49m\u001b[38;5;241;43m=\u001b[39;49m\u001b[43m(\u001b[49m\u001b[43mw\u001b[49m\u001b[43m \u001b[49m\u001b[38;5;241;43m*\u001b[39;49m\u001b[43m \u001b[49m\u001b[43mwt\u001b[49m\u001b[43m)\u001b[49m\u001b[43m,\u001b[49m\u001b[43m \u001b[49m\u001b[43mparam\u001b[49m\u001b[38;5;241;43m=\u001b[39;49m\u001b[43mparam\u001b[49m\u001b[43m)\u001b[49m\n\u001b[0;32m    709\u001b[0m y_gram[param] \u001b[38;5;241m=\u001b[39m \u001b[38;5;28mself\u001b[39m\u001b[38;5;241m.\u001b[39m_make_y_gram(x\u001b[38;5;241m=\u001b[39mX[param], y\u001b[38;5;241m=\u001b[39mwv, w\u001b[38;5;241m=\u001b[39m(w \u001b[38;5;241m*\u001b[39m wt), param\u001b[38;5;241m=\u001b[39mparam)\n\u001b[0;32m    710\u001b[0m beta_new, beta_path_new, rss_new, lambda_max_new, lambda_path_new \u001b[38;5;241m=\u001b[39m (\n\u001b[0;32m    711\u001b[0m     \u001b[38;5;28mself\u001b[39m\u001b[38;5;241m.\u001b[39mfit_beta(\n\u001b[0;32m    712\u001b[0m         x_gram[param],\n\u001b[1;32m   (...)\u001b[0m\n\u001b[0;32m    721\u001b[0m     )\n\u001b[0;32m    722\u001b[0m )\n",
      "File \u001b[1;32mc:\\Users\\Katarzyna Chęć\\Documents\\PhD research\\2. GAMLSS for load\\ROLCH load\\.venv\\lib\\site-packages\\rolch\\abc.py:246\u001b[0m, in \u001b[0;36mEstimator._make_x_gram\u001b[1;34m(self, x, w, param)\u001b[0m\n\u001b[0;32m    234\u001b[0m \u001b[38;5;250m\u001b[39m\u001b[38;5;124;03m\"\"\"\u001b[39;00m\n\u001b[0;32m    235\u001b[0m \u001b[38;5;124;03mMake the Gram matrix.\u001b[39;00m\n\u001b[0;32m    236\u001b[0m \n\u001b[1;32m   (...)\u001b[0m\n\u001b[0;32m    243\u001b[0m \u001b[38;5;124;03m    np.ndarray: Gram matrix.\u001b[39;00m\n\u001b[0;32m    244\u001b[0m \u001b[38;5;124;03m\"\"\"\u001b[39;00m\n\u001b[0;32m    245\u001b[0m \u001b[38;5;28;01mif\u001b[39;00m \u001b[38;5;28mself\u001b[39m\u001b[38;5;241m.\u001b[39mmethod \u001b[38;5;241m==\u001b[39m \u001b[38;5;124m\"\u001b[39m\u001b[38;5;124mols\u001b[39m\u001b[38;5;124m\"\u001b[39m:\n\u001b[1;32m--> 246\u001b[0m     \u001b[38;5;28;01mreturn\u001b[39;00m \u001b[43minit_inverted_gram\u001b[49m\u001b[43m(\u001b[49m\u001b[43mX\u001b[49m\u001b[38;5;241;43m=\u001b[39;49m\u001b[43mx\u001b[49m\u001b[43m,\u001b[49m\u001b[43m \u001b[49m\u001b[43mw\u001b[49m\u001b[38;5;241;43m=\u001b[39;49m\u001b[43mw\u001b[49m\u001b[43m,\u001b[49m\u001b[43m \u001b[49m\u001b[43mforget\u001b[49m\u001b[38;5;241;43m=\u001b[39;49m\u001b[38;5;28;43mself\u001b[39;49m\u001b[38;5;241;43m.\u001b[39;49m\u001b[43mforget\u001b[49m\u001b[43m[\u001b[49m\u001b[43mparam\u001b[49m\u001b[43m]\u001b[49m\u001b[43m)\u001b[49m\n\u001b[0;32m    247\u001b[0m \u001b[38;5;28;01melif\u001b[39;00m \u001b[38;5;28mself\u001b[39m\u001b[38;5;241m.\u001b[39mmethod \u001b[38;5;241m==\u001b[39m \u001b[38;5;124m\"\u001b[39m\u001b[38;5;124mlasso\u001b[39m\u001b[38;5;124m\"\u001b[39m:\n\u001b[0;32m    248\u001b[0m     \u001b[38;5;28;01mreturn\u001b[39;00m init_gram(X\u001b[38;5;241m=\u001b[39mx, w\u001b[38;5;241m=\u001b[39mw, forget\u001b[38;5;241m=\u001b[39m\u001b[38;5;28mself\u001b[39m\u001b[38;5;241m.\u001b[39mforget[param])\n",
      "File \u001b[1;32mc:\\Users\\Katarzyna Chęć\\Documents\\PhD research\\2. GAMLSS for load\\ROLCH load\\.venv\\lib\\site-packages\\numba\\np\\linalg.py:827\u001b[0m, in \u001b[0;36m_check_finite_matrix\u001b[1;34m()\u001b[0m\n\u001b[0;32m    825\u001b[0m \u001b[38;5;28;01mfor\u001b[39;00m v \u001b[38;5;129;01min\u001b[39;00m np\u001b[38;5;241m.\u001b[39mnditer(a):\n\u001b[0;32m    826\u001b[0m     \u001b[38;5;28;01mif\u001b[39;00m \u001b[38;5;129;01mnot\u001b[39;00m np\u001b[38;5;241m.\u001b[39misfinite(v\u001b[38;5;241m.\u001b[39mitem()):\n\u001b[1;32m--> 827\u001b[0m         \u001b[38;5;28;01mraise\u001b[39;00m np\u001b[38;5;241m.\u001b[39mlinalg\u001b[38;5;241m.\u001b[39mLinAlgError(\n\u001b[0;32m    828\u001b[0m             \u001b[38;5;124m\"\u001b[39m\u001b[38;5;124mArray must not contain infs or NaNs.\u001b[39m\u001b[38;5;124m\"\u001b[39m)\n",
      "\u001b[1;31mLinAlgError\u001b[0m: Array must not contain infs or NaNs."
     ]
    }
   ],
   "source": [
    "# ROLCH\n",
    "\n",
    "all_results_mean = pl.Series(dtype=pl.Float64)\n",
    "all_results_std = pl.Series(dtype=pl.Float64)\n",
    "\n",
    "equation = {\n",
    "    0: \"all\",\n",
    "    1: \"all\",\n",
    "    # 2: [0],\n",
    "    # 3: [0]\n",
    "}\n",
    "\n",
    "hours_ols = {}\n",
    "\n",
    "j=endd\n",
    "\n",
    "for d in range(0,1):\n",
    "    arr_temp_mean = np.zeros(24)\n",
    "    arr_temp_std = np.zeros(24)\n",
    "    if d==0:\n",
    "        data_roll = data_full.slice(startd,endd+24) # data_full.slice(startd+24*d,endd+24)\n",
    "    else:\n",
    "        data_roll = data_full.slice(j-24*8,9*24)\n",
    "\n",
    "    # prepare data\n",
    "    x,x_fut = prepare_data_ARX(cal_window=data_roll,d=d,endd=endd)\n",
    "\n",
    "    # loop over hours\n",
    "    for h in range(0,24):\n",
    "\n",
    "        # get subsets for hour h\n",
    "        data_h = x[h::24]\n",
    "        data_h_fut = x_fut[h::24]\n",
    "\n",
    "        y = data_h[:,0]\n",
    "        X = data_h[:,1:]\n",
    "\n",
    "        if d==0:\n",
    "            online_gamlss_ols = rolch.OnlineGamlss(\n",
    "                distribution=rolch.DistributionNormal(),\n",
    "                method=\"ols\",\n",
    "                scale_inputs = True,\n",
    "                equation=equation,\n",
    "                forget=1/endd,\n",
    "                fit_intercept=False,\n",
    "                max_it_outer = 5,\n",
    "                max_it_inner = 10\n",
    "            )\n",
    "\n",
    "            online_gamlss_ols.fit(X, y)\n",
    "\n",
    "            hours_ols[h] = online_gamlss_ols\n",
    "\n",
    "        else:\n",
    "            X_update = X[[-1],:]\n",
    "            y_update = y[[-1]]\n",
    "\n",
    "            online_gamlss_ols = hours_ols[h]\n",
    "            online_gamlss_ols.update(X_update,y_update)\n",
    "            hours_ols[h] = online_gamlss_ols\n",
    "\n",
    "        prog = online_gamlss_ols.predict(\n",
    "            X=data_h_fut\n",
    "        )\n",
    "        \n",
    "        arr_temp_mean[h] = prog[0][0]\n",
    "        arr_temp_std[h] = prog[0][1]\n",
    "    \n",
    "    # save mean\n",
    "    all_results_mean = pl.concat(\n",
    "        [all_results_mean,pl.Series(np.array(arr_temp_mean))],how='vertical'\n",
    "    )\n",
    "\n",
    "    # save std\n",
    "    all_results_std = pl.concat(\n",
    "        [all_results_std,pl.Series(np.array(arr_temp_std))],how='vertical'\n",
    "    )\n",
    "\n",
    "    j=j+24 # for the loop over days\n",
    "\n",
    "    if d % 200 == 0:\n",
    "        print(d)"
   ]
  },
  {
   "cell_type": "code",
   "execution_count": 14,
   "metadata": {},
   "outputs": [
    {
     "data": {
      "text/html": [
       "<div><style>\n",
       ".dataframe > thead > tr,\n",
       ".dataframe > tbody > tr {\n",
       "  text-align: right;\n",
       "  white-space: pre-wrap;\n",
       "}\n",
       "</style>\n",
       "<small>shape: (1, 1)</small><table border=\"1\" class=\"dataframe\"><thead><tr><th>column_0</th></tr><tr><td>u32</td></tr></thead><tbody><tr><td>0</td></tr></tbody></table></div>"
      ],
      "text/plain": [
       "shape: (1, 1)\n",
       "┌──────────┐\n",
       "│ column_0 │\n",
       "│ ---      │\n",
       "│ u32      │\n",
       "╞══════════╡\n",
       "│ 0        │\n",
       "└──────────┘"
      ]
     },
     "execution_count": 14,
     "metadata": {},
     "output_type": "execute_result"
    }
   ],
   "source": [
    "pl.DataFrame(y).null_count()"
   ]
  },
  {
   "cell_type": "code",
   "execution_count": 15,
   "metadata": {},
   "outputs": [
    {
     "data": {
      "text/html": [
       "<div><style>\n",
       ".dataframe > thead > tr,\n",
       ".dataframe > tbody > tr {\n",
       "  text-align: right;\n",
       "  white-space: pre-wrap;\n",
       "}\n",
       "</style>\n",
       "<small>shape: (49, 14)</small><table border=\"1\" class=\"dataframe\"><thead><tr><th>column_0</th><th>column_1</th><th>column_2</th><th>column_3</th><th>column_4</th><th>column_5</th><th>column_6</th><th>column_7</th><th>column_8</th><th>column_9</th><th>column_10</th><th>column_11</th><th>column_12</th><th>column_13</th></tr><tr><td>f64</td><td>f64</td><td>f64</td><td>f64</td><td>f64</td><td>f64</td><td>f64</td><td>f64</td><td>f64</td><td>f64</td><td>f64</td><td>f64</td><td>f64</td><td>f64</td></tr></thead><tbody><tr><td>56.19098</td><td>55.52995</td><td>58.70355</td><td>0.0</td><td>12.88128</td><td>1.70036</td><td>2.16</td><td>0.0</td><td>1.0</td><td>0.0</td><td>0.0</td><td>0.0</td><td>0.0</td><td>0.0</td></tr><tr><td>57.90951</td><td>56.19098</td><td>59.97038</td><td>0.0</td><td>21.3774</td><td>4.97538</td><td>5.74</td><td>0.0</td><td>0.0</td><td>1.0</td><td>0.0</td><td>0.0</td><td>0.0</td><td>0.0</td></tr><tr><td>56.68208</td><td>57.90951</td><td>61.06089</td><td>0.0</td><td>11.22556</td><td>5.37158</td><td>5.4</td><td>0.0</td><td>0.0</td><td>0.0</td><td>1.0</td><td>0.0</td><td>0.0</td><td>0.0</td></tr><tr><td>54.5798</td><td>56.68208</td><td>60.57644</td><td>0.0</td><td>25.86148</td><td>6.26754</td><td>6.8</td><td>0.0</td><td>0.0</td><td>0.0</td><td>0.0</td><td>1.0</td><td>0.0</td><td>0.0</td></tr><tr><td>55.62696</td><td>54.5798</td><td>59.26798</td><td>0.0</td><td>13.74069</td><td>5.81782</td><td>5.56</td><td>0.0</td><td>0.0</td><td>0.0</td><td>0.0</td><td>0.0</td><td>1.0</td><td>0.0</td></tr><tr><td>&hellip;</td><td>&hellip;</td><td>&hellip;</td><td>&hellip;</td><td>&hellip;</td><td>&hellip;</td><td>&hellip;</td><td>&hellip;</td><td>&hellip;</td><td>&hellip;</td><td>&hellip;</td><td>&hellip;</td><td>&hellip;</td><td>&hellip;</td></tr><tr><td>49.29688</td><td>50.21529</td><td>52.14442</td><td>0.0</td><td>4.0192</td><td>0.71462</td><td>12.98</td><td>0.0</td><td>0.0</td><td>0.0</td><td>1.0</td><td>0.0</td><td>0.0</td><td>0.0</td></tr><tr><td>47.55861</td><td>49.29688</td><td>50.55864</td><td>0.0</td><td>8.54384</td><td>2.71387</td><td>9.68</td><td>0.0</td><td>0.0</td><td>0.0</td><td>0.0</td><td>1.0</td><td>0.0</td><td>0.0</td></tr><tr><td>45.69186</td><td>47.55861</td><td>49.2914</td><td>0.0</td><td>16.11316</td><td>5.39996</td><td>5.76</td><td>0.0</td><td>0.0</td><td>0.0</td><td>0.0</td><td>0.0</td><td>1.0</td><td>0.0</td></tr><tr><td>44.09184</td><td>45.69186</td><td>46.52162</td><td>0.0</td><td>3.71857</td><td>2.08808</td><td>4.1</td><td>0.0</td><td>0.0</td><td>0.0</td><td>0.0</td><td>0.0</td><td>0.0</td><td>1.0</td></tr><tr><td>42.43658</td><td>44.09184</td><td>48.05953</td><td>0.0</td><td>23.10228</td><td>5.68923</td><td>5.56</td><td>1.0</td><td>0.0</td><td>0.0</td><td>0.0</td><td>0.0</td><td>0.0</td><td>0.0</td></tr></tbody></table></div>"
      ],
      "text/plain": [
       "shape: (49, 14)\n",
       "┌──────────┬──────────┬──────────┬──────────┬───┬───────────┬───────────┬───────────┬───────────┐\n",
       "│ column_0 ┆ column_1 ┆ column_2 ┆ column_3 ┆ … ┆ column_10 ┆ column_11 ┆ column_12 ┆ column_13 │\n",
       "│ ---      ┆ ---      ┆ ---      ┆ ---      ┆   ┆ ---       ┆ ---       ┆ ---       ┆ ---       │\n",
       "│ f64      ┆ f64      ┆ f64      ┆ f64      ┆   ┆ f64       ┆ f64       ┆ f64       ┆ f64       │\n",
       "╞══════════╪══════════╪══════════╪══════════╪═══╪═══════════╪═══════════╪═══════════╪═══════════╡\n",
       "│ 56.19098 ┆ 55.52995 ┆ 58.70355 ┆ 0.0      ┆ … ┆ 0.0       ┆ 0.0       ┆ 0.0       ┆ 0.0       │\n",
       "│ 57.90951 ┆ 56.19098 ┆ 59.97038 ┆ 0.0      ┆ … ┆ 0.0       ┆ 0.0       ┆ 0.0       ┆ 0.0       │\n",
       "│ 56.68208 ┆ 57.90951 ┆ 61.06089 ┆ 0.0      ┆ … ┆ 1.0       ┆ 0.0       ┆ 0.0       ┆ 0.0       │\n",
       "│ 54.5798  ┆ 56.68208 ┆ 60.57644 ┆ 0.0      ┆ … ┆ 0.0       ┆ 1.0       ┆ 0.0       ┆ 0.0       │\n",
       "│ 55.62696 ┆ 54.5798  ┆ 59.26798 ┆ 0.0      ┆ … ┆ 0.0       ┆ 0.0       ┆ 1.0       ┆ 0.0       │\n",
       "│ …        ┆ …        ┆ …        ┆ …        ┆ … ┆ …         ┆ …         ┆ …         ┆ …         │\n",
       "│ 49.29688 ┆ 50.21529 ┆ 52.14442 ┆ 0.0      ┆ … ┆ 1.0       ┆ 0.0       ┆ 0.0       ┆ 0.0       │\n",
       "│ 47.55861 ┆ 49.29688 ┆ 50.55864 ┆ 0.0      ┆ … ┆ 0.0       ┆ 1.0       ┆ 0.0       ┆ 0.0       │\n",
       "│ 45.69186 ┆ 47.55861 ┆ 49.2914  ┆ 0.0      ┆ … ┆ 0.0       ┆ 0.0       ┆ 1.0       ┆ 0.0       │\n",
       "│ 44.09184 ┆ 45.69186 ┆ 46.52162 ┆ 0.0      ┆ … ┆ 0.0       ┆ 0.0       ┆ 0.0       ┆ 1.0       │\n",
       "│ 42.43658 ┆ 44.09184 ┆ 48.05953 ┆ 0.0      ┆ … ┆ 0.0       ┆ 0.0       ┆ 0.0       ┆ 0.0       │\n",
       "└──────────┴──────────┴──────────┴──────────┴───┴───────────┴───────────┴───────────┴───────────┘"
      ]
     },
     "execution_count": 15,
     "metadata": {},
     "output_type": "execute_result"
    }
   ],
   "source": [
    "pl.DataFrame(X)"
   ]
  },
  {
   "cell_type": "code",
   "execution_count": 16,
   "metadata": {},
   "outputs": [
    {
     "data": {
      "text/plain": [
       "14"
      ]
     },
     "execution_count": 16,
     "metadata": {},
     "output_type": "execute_result"
    }
   ],
   "source": [
    "X.shape[1]"
   ]
  },
  {
   "cell_type": "code",
   "execution_count": 17,
   "metadata": {},
   "outputs": [
    {
     "ename": "TypeError",
     "evalue": "unhashable type: 'numpy.ndarray'",
     "output_type": "error",
     "traceback": [
      "\u001b[1;31m---------------------------------------------------------------------------\u001b[0m",
      "\u001b[1;31mTypeError\u001b[0m                                 Traceback (most recent call last)",
      "\u001b[1;32m~\\AppData\\Local\\Temp\\ipykernel_36964\\696118787.py\u001b[0m in \u001b[0;36m?\u001b[1;34m()\u001b[0m\n\u001b[1;32m----> 1\u001b[1;33m \u001b[0mpd\u001b[0m\u001b[1;33m.\u001b[0m\u001b[0mDataFrame\u001b[0m\u001b[1;33m(\u001b[0m\u001b[0mX\u001b[0m\u001b[1;33m)\u001b[0m\u001b[1;33m.\u001b[0m\u001b[0mrank\u001b[0m\u001b[1;33m(\u001b[0m\u001b[0mX\u001b[0m\u001b[1;33m.\u001b[0m\u001b[0mT\u001b[0m \u001b[1;33m@\u001b[0m \u001b[0mX\u001b[0m\u001b[1;33m)\u001b[0m\u001b[1;33m\u001b[0m\u001b[1;33m\u001b[0m\u001b[0m\n\u001b[0m",
      "\u001b[1;32mc:\\Users\\Katarzyna Chęć\\Documents\\PhD research\\2. GAMLSS for load\\ROLCH load\\.venv\\lib\\site-packages\\pandas\\core\\generic.py\u001b[0m in \u001b[0;36m?\u001b[1;34m(self, axis, method, numeric_only, na_option, ascending, pct)\u001b[0m\n\u001b[0;32m  10054\u001b[0m         \u001b[1;36m2\u001b[0m      \u001b[0mdog\u001b[0m          \u001b[1;36m4.0\u001b[0m           \u001b[1;36m2.5\u001b[0m       \u001b[1;36m3.0\u001b[0m        \u001b[1;36m2.5\u001b[0m     \u001b[1;36m0.625\u001b[0m\u001b[1;33m\u001b[0m\u001b[1;33m\u001b[0m\u001b[0m\n\u001b[0;32m  10055\u001b[0m         \u001b[1;36m3\u001b[0m   \u001b[0mspider\u001b[0m          \u001b[1;36m8.0\u001b[0m           \u001b[1;36m4.0\u001b[0m       \u001b[1;36m4.0\u001b[0m        \u001b[1;36m4.0\u001b[0m     \u001b[1;36m1.000\u001b[0m\u001b[1;33m\u001b[0m\u001b[1;33m\u001b[0m\u001b[0m\n\u001b[0;32m  10056\u001b[0m         \u001b[1;36m4\u001b[0m    \u001b[0msnake\u001b[0m          \u001b[0mNaN\u001b[0m           \u001b[0mNaN\u001b[0m       \u001b[0mNaN\u001b[0m        \u001b[1;36m5.0\u001b[0m       \u001b[0mNaN\u001b[0m\u001b[1;33m\u001b[0m\u001b[1;33m\u001b[0m\u001b[0m\n\u001b[0;32m  10057\u001b[0m         \"\"\"\n\u001b[1;32m> 10058\u001b[1;33m         \u001b[0maxis_int\u001b[0m \u001b[1;33m=\u001b[0m \u001b[0mself\u001b[0m\u001b[1;33m.\u001b[0m\u001b[0m_get_axis_number\u001b[0m\u001b[1;33m(\u001b[0m\u001b[0maxis\u001b[0m\u001b[1;33m)\u001b[0m\u001b[1;33m\u001b[0m\u001b[1;33m\u001b[0m\u001b[0m\n\u001b[0m\u001b[0;32m  10059\u001b[0m \u001b[1;33m\u001b[0m\u001b[0m\n\u001b[0;32m  10060\u001b[0m         \u001b[1;32mif\u001b[0m \u001b[0mna_option\u001b[0m \u001b[1;32mnot\u001b[0m \u001b[1;32min\u001b[0m \u001b[1;33m{\u001b[0m\u001b[1;34m\"keep\"\u001b[0m\u001b[1;33m,\u001b[0m \u001b[1;34m\"top\"\u001b[0m\u001b[1;33m,\u001b[0m \u001b[1;34m\"bottom\"\u001b[0m\u001b[1;33m}\u001b[0m\u001b[1;33m:\u001b[0m\u001b[1;33m\u001b[0m\u001b[1;33m\u001b[0m\u001b[0m\n\u001b[0;32m  10061\u001b[0m             \u001b[0mmsg\u001b[0m \u001b[1;33m=\u001b[0m \u001b[1;34m\"na_option must be one of 'keep', 'top', or 'bottom'\"\u001b[0m\u001b[1;33m\u001b[0m\u001b[1;33m\u001b[0m\u001b[0m\n",
      "\u001b[1;32mc:\\Users\\Katarzyna Chęć\\Documents\\PhD research\\2. GAMLSS for load\\ROLCH load\\.venv\\lib\\site-packages\\pandas\\core\\generic.py\u001b[0m in \u001b[0;36m?\u001b[1;34m(cls, axis)\u001b[0m\n\u001b[0;32m    573\u001b[0m     \u001b[1;33m@\u001b[0m\u001b[0mclassmethod\u001b[0m\u001b[1;33m\u001b[0m\u001b[1;33m\u001b[0m\u001b[0m\n\u001b[0;32m    574\u001b[0m     \u001b[1;32mdef\u001b[0m \u001b[0m_get_axis_number\u001b[0m\u001b[1;33m(\u001b[0m\u001b[0mcls\u001b[0m\u001b[1;33m,\u001b[0m \u001b[0maxis\u001b[0m\u001b[1;33m:\u001b[0m \u001b[0mAxis\u001b[0m\u001b[1;33m)\u001b[0m \u001b[1;33m->\u001b[0m \u001b[0mAxisInt\u001b[0m\u001b[1;33m:\u001b[0m\u001b[1;33m\u001b[0m\u001b[1;33m\u001b[0m\u001b[0m\n\u001b[0;32m    575\u001b[0m         \u001b[1;32mtry\u001b[0m\u001b[1;33m:\u001b[0m\u001b[1;33m\u001b[0m\u001b[1;33m\u001b[0m\u001b[0m\n\u001b[0;32m    576\u001b[0m             \u001b[1;32mreturn\u001b[0m \u001b[0mcls\u001b[0m\u001b[1;33m.\u001b[0m\u001b[0m_AXIS_TO_AXIS_NUMBER\u001b[0m\u001b[1;33m[\u001b[0m\u001b[0maxis\u001b[0m\u001b[1;33m]\u001b[0m\u001b[1;33m\u001b[0m\u001b[1;33m\u001b[0m\u001b[0m\n\u001b[1;32m--> 577\u001b[1;33m         \u001b[1;32mexcept\u001b[0m \u001b[0mKeyError\u001b[0m\u001b[1;33m:\u001b[0m\u001b[1;33m\u001b[0m\u001b[1;33m\u001b[0m\u001b[0m\n\u001b[0m\u001b[0;32m    578\u001b[0m             \u001b[1;32mraise\u001b[0m \u001b[0mValueError\u001b[0m\u001b[1;33m(\u001b[0m\u001b[1;34mf\"No axis named {axis} for object type {cls.__name__}\"\u001b[0m\u001b[1;33m)\u001b[0m\u001b[1;33m\u001b[0m\u001b[1;33m\u001b[0m\u001b[0m\n",
      "\u001b[1;31mTypeError\u001b[0m: unhashable type: 'numpy.ndarray'"
     ]
    }
   ],
   "source": [
    "pd.DataFrame(X).rank(X.T @ X)"
   ]
  },
  {
   "cell_type": "code",
   "execution_count": null,
   "metadata": {},
   "outputs": [],
   "source": []
  }
 ],
 "metadata": {
  "kernelspec": {
   "display_name": ".venv",
   "language": "python",
   "name": "python3"
  },
  "language_info": {
   "codemirror_mode": {
    "name": "ipython",
    "version": 3
   },
   "file_extension": ".py",
   "mimetype": "text/x-python",
   "name": "python",
   "nbconvert_exporter": "python",
   "pygments_lexer": "ipython3",
   "version": "3.10.11"
  }
 },
 "nbformat": 4,
 "nbformat_minor": 2
}
