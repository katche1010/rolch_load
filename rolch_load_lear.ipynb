{
 "cells": [
  {
   "cell_type": "code",
   "execution_count": 1,
   "metadata": {},
   "outputs": [],
   "source": [
    "import polars as pl\n",
    "# import polars_ols as pls\n",
    "import pandas as pd\n",
    "import numpy as np\n",
    "import rolch\n",
    "\n",
    "from datetime import datetime"
   ]
  },
  {
   "cell_type": "code",
   "execution_count": 5,
   "metadata": {},
   "outputs": [
    {
     "data": {
      "text/html": [
       "<div><style>\n",
       ".dataframe > thead > tr,\n",
       ".dataframe > tbody > tr {\n",
       "  text-align: right;\n",
       "  white-space: pre-wrap;\n",
       "}\n",
       "</style>\n",
       "<small>shape: (76_608, 13)</small><table border=\"1\" class=\"dataframe\"><thead><tr><th>Date</th><th>Hour</th><th>Price</th><th>Load_DA</th><th>Load_Act</th><th>Solar_DA</th><th>Solar_Act</th><th>WindOn_DA</th><th>WindOn_Act</th><th>WindOff_DA</th><th>WindOff_Act</th><th>Temp_DA</th><th>Year</th></tr><tr><td>i64</td><td>i64</td><td>f64</td><td>f64</td><td>f64</td><td>f64</td><td>f64</td><td>f64</td><td>f64</td><td>f64</td><td>f64</td><td>f64</td><td>i64</td></tr></thead><tbody><tr><td>20150105</td><td>0</td><td>22.34</td><td>43.17617</td><td>46.66787</td><td>0.0</td><td>0.0</td><td>10.00974</td><td>12.71664</td><td>0.19212</td><td>0.47802</td><td>null</td><td>2015</td></tr><tr><td>20150105</td><td>1</td><td>17.93</td><td>41.59758</td><td>44.62704</td><td>0.0</td><td>0.0</td><td>10.28754</td><td>12.5964</td><td>0.19238</td><td>0.46855</td><td>null</td><td>2015</td></tr><tr><td>20150105</td><td>2</td><td>15.17</td><td>40.42159</td><td>43.63534</td><td>0.0</td><td>0.0</td><td>10.41837</td><td>12.81819</td><td>0.195</td><td>0.46556</td><td>null</td><td>2015</td></tr><tr><td>20150105</td><td>3</td><td>16.38</td><td>40.40436</td><td>43.68339</td><td>0.0</td><td>0.0</td><td>10.6018</td><td>13.01156</td><td>0.19362</td><td>0.45402</td><td>null</td><td>2015</td></tr><tr><td>20150105</td><td>4</td><td>17.38</td><td>41.34813</td><td>44.96917</td><td>0.0</td><td>0.0</td><td>10.80991</td><td>13.54185</td><td>0.18762</td><td>0.45748</td><td>null</td><td>2015</td></tr><tr><td>&hellip;</td><td>&hellip;</td><td>&hellip;</td><td>&hellip;</td><td>&hellip;</td><td>&hellip;</td><td>&hellip;</td><td>&hellip;</td><td>&hellip;</td><td>&hellip;</td><td>&hellip;</td><td>&hellip;</td><td>&hellip;</td></tr><tr><td>20231001</td><td>19</td><td>130.0</td><td>45.85029</td><td>48.01121</td><td>0.01088</td><td>0.00331</td><td>7.94233</td><td>5.62464</td><td>2.78673</td><td>2.60925</td><td>18.88</td><td>2023</td></tr><tr><td>20231001</td><td>20</td><td>130.0</td><td>44.79807</td><td>46.51472</td><td>0.0</td><td>0.0</td><td>8.20989</td><td>6.38471</td><td>2.47612</td><td>2.09245</td><td>17.76</td><td>2023</td></tr><tr><td>20231001</td><td>21</td><td>115.16</td><td>42.82068</td><td>43.97374</td><td>0.0</td><td>0.0</td><td>8.36224</td><td>6.97915</td><td>2.22223</td><td>2.03959</td><td>17.0</td><td>2023</td></tr><tr><td>20231001</td><td>22</td><td>106.62</td><td>41.27068</td><td>42.17465</td><td>0.0</td><td>0.0</td><td>8.36047</td><td>7.16146</td><td>2.06008</td><td>1.8885</td><td>16.22</td><td>2023</td></tr><tr><td>20231001</td><td>23</td><td>99.97</td><td>38.9271</td><td>39.66824</td><td>0.0</td><td>0.0</td><td>8.26506</td><td>7.10472</td><td>1.94609</td><td>1.93003</td><td>15.6</td><td>2023</td></tr></tbody></table></div>"
      ],
      "text/plain": [
       "shape: (76_608, 13)\n",
       "┌──────────┬──────┬────────┬──────────┬───┬────────────┬─────────────┬─────────┬──────┐\n",
       "│ Date     ┆ Hour ┆ Price  ┆ Load_DA  ┆ … ┆ WindOff_DA ┆ WindOff_Act ┆ Temp_DA ┆ Year │\n",
       "│ ---      ┆ ---  ┆ ---    ┆ ---      ┆   ┆ ---        ┆ ---         ┆ ---     ┆ ---  │\n",
       "│ i64      ┆ i64  ┆ f64    ┆ f64      ┆   ┆ f64        ┆ f64         ┆ f64     ┆ i64  │\n",
       "╞══════════╪══════╪════════╪══════════╪═══╪════════════╪═════════════╪═════════╪══════╡\n",
       "│ 20150105 ┆ 0    ┆ 22.34  ┆ 43.17617 ┆ … ┆ 0.19212    ┆ 0.47802     ┆ null    ┆ 2015 │\n",
       "│ 20150105 ┆ 1    ┆ 17.93  ┆ 41.59758 ┆ … ┆ 0.19238    ┆ 0.46855     ┆ null    ┆ 2015 │\n",
       "│ 20150105 ┆ 2    ┆ 15.17  ┆ 40.42159 ┆ … ┆ 0.195      ┆ 0.46556     ┆ null    ┆ 2015 │\n",
       "│ 20150105 ┆ 3    ┆ 16.38  ┆ 40.40436 ┆ … ┆ 0.19362    ┆ 0.45402     ┆ null    ┆ 2015 │\n",
       "│ 20150105 ┆ 4    ┆ 17.38  ┆ 41.34813 ┆ … ┆ 0.18762    ┆ 0.45748     ┆ null    ┆ 2015 │\n",
       "│ …        ┆ …    ┆ …      ┆ …        ┆ … ┆ …          ┆ …           ┆ …       ┆ …    │\n",
       "│ 20231001 ┆ 19   ┆ 130.0  ┆ 45.85029 ┆ … ┆ 2.78673    ┆ 2.60925     ┆ 18.88   ┆ 2023 │\n",
       "│ 20231001 ┆ 20   ┆ 130.0  ┆ 44.79807 ┆ … ┆ 2.47612    ┆ 2.09245     ┆ 17.76   ┆ 2023 │\n",
       "│ 20231001 ┆ 21   ┆ 115.16 ┆ 42.82068 ┆ … ┆ 2.22223    ┆ 2.03959     ┆ 17.0    ┆ 2023 │\n",
       "│ 20231001 ┆ 22   ┆ 106.62 ┆ 41.27068 ┆ … ┆ 2.06008    ┆ 1.8885      ┆ 16.22   ┆ 2023 │\n",
       "│ 20231001 ┆ 23   ┆ 99.97  ┆ 38.9271  ┆ … ┆ 1.94609    ┆ 1.93003     ┆ 15.6    ┆ 2023 │\n",
       "└──────────┴──────┴────────┴──────────┴───┴────────────┴─────────────┴─────────┴──────┘"
      ]
     },
     "execution_count": 5,
     "metadata": {},
     "output_type": "execute_result"
    }
   ],
   "source": [
    "data_full = pl.read_csv('DE_prep.csv').with_columns(pl.col('Temp_DA').cast(pl.Float64))\n",
    "data_full"
   ]
  },
  {
   "cell_type": "code",
   "execution_count": 6,
   "metadata": {},
   "outputs": [
    {
     "data": {
      "text/html": [
       "<div><style>\n",
       ".dataframe > thead > tr,\n",
       ".dataframe > tbody > tr {\n",
       "  text-align: right;\n",
       "  white-space: pre-wrap;\n",
       "}\n",
       "</style>\n",
       "<small>shape: (23_832, 13)</small><table border=\"1\" class=\"dataframe\"><thead><tr><th>Date</th><th>Hour</th><th>Price</th><th>Load_DA</th><th>Load_Act</th><th>Solar_DA</th><th>Solar_Act</th><th>WindOn_DA</th><th>WindOn_Act</th><th>WindOff_DA</th><th>WindOff_Act</th><th>Temp_DA</th><th>Year</th></tr><tr><td>i64</td><td>i64</td><td>f64</td><td>f64</td><td>f64</td><td>f64</td><td>f64</td><td>f64</td><td>f64</td><td>f64</td><td>f64</td><td>f64</td><td>i64</td></tr></thead><tbody><tr><td>20210112</td><td>0</td><td>18.96</td><td>50.84298</td><td>59.75995</td><td>0.0</td><td>0.0</td><td>33.522</td><td>32.99134</td><td>5.2638</td><td>4.71488</td><td>1.0</td><td>2021</td></tr><tr><td>20210112</td><td>1</td><td>15.82</td><td>48.54194</td><td>58.14762</td><td>0.0</td><td>0.0</td><td>33.86269</td><td>33.58869</td><td>5.08334</td><td>4.63254</td><td>1.16</td><td>2021</td></tr><tr><td>20210112</td><td>2</td><td>19.0</td><td>47.89552</td><td>56.97078</td><td>0.0</td><td>0.0</td><td>33.9029</td><td>32.90247</td><td>4.56703</td><td>3.70295</td><td>1.26</td><td>2021</td></tr><tr><td>20210112</td><td>3</td><td>24.14</td><td>47.92218</td><td>56.91989</td><td>0.0</td><td>0.0</td><td>33.31623</td><td>31.5854</td><td>4.16626</td><td>3.60216</td><td>1.46</td><td>2021</td></tr><tr><td>20210112</td><td>4</td><td>27.0</td><td>49.06122</td><td>58.05438</td><td>0.0</td><td>0.0</td><td>32.03167</td><td>30.1555</td><td>4.05303</td><td>3.23646</td><td>1.68</td><td>2021</td></tr><tr><td>&hellip;</td><td>&hellip;</td><td>&hellip;</td><td>&hellip;</td><td>&hellip;</td><td>&hellip;</td><td>&hellip;</td><td>&hellip;</td><td>&hellip;</td><td>&hellip;</td><td>&hellip;</td><td>&hellip;</td><td>&hellip;</td></tr><tr><td>20231001</td><td>19</td><td>130.0</td><td>45.85029</td><td>48.01121</td><td>0.01088</td><td>0.00331</td><td>7.94233</td><td>5.62464</td><td>2.78673</td><td>2.60925</td><td>18.88</td><td>2023</td></tr><tr><td>20231001</td><td>20</td><td>130.0</td><td>44.79807</td><td>46.51472</td><td>0.0</td><td>0.0</td><td>8.20989</td><td>6.38471</td><td>2.47612</td><td>2.09245</td><td>17.76</td><td>2023</td></tr><tr><td>20231001</td><td>21</td><td>115.16</td><td>42.82068</td><td>43.97374</td><td>0.0</td><td>0.0</td><td>8.36224</td><td>6.97915</td><td>2.22223</td><td>2.03959</td><td>17.0</td><td>2023</td></tr><tr><td>20231001</td><td>22</td><td>106.62</td><td>41.27068</td><td>42.17465</td><td>0.0</td><td>0.0</td><td>8.36047</td><td>7.16146</td><td>2.06008</td><td>1.8885</td><td>16.22</td><td>2023</td></tr><tr><td>20231001</td><td>23</td><td>99.97</td><td>38.9271</td><td>39.66824</td><td>0.0</td><td>0.0</td><td>8.26506</td><td>7.10472</td><td>1.94609</td><td>1.93003</td><td>15.6</td><td>2023</td></tr></tbody></table></div>"
      ],
      "text/plain": [
       "shape: (23_832, 13)\n",
       "┌──────────┬──────┬────────┬──────────┬───┬────────────┬─────────────┬─────────┬──────┐\n",
       "│ Date     ┆ Hour ┆ Price  ┆ Load_DA  ┆ … ┆ WindOff_DA ┆ WindOff_Act ┆ Temp_DA ┆ Year │\n",
       "│ ---      ┆ ---  ┆ ---    ┆ ---      ┆   ┆ ---        ┆ ---         ┆ ---     ┆ ---  │\n",
       "│ i64      ┆ i64  ┆ f64    ┆ f64      ┆   ┆ f64        ┆ f64         ┆ f64     ┆ i64  │\n",
       "╞══════════╪══════╪════════╪══════════╪═══╪════════════╪═════════════╪═════════╪══════╡\n",
       "│ 20210112 ┆ 0    ┆ 18.96  ┆ 50.84298 ┆ … ┆ 5.2638     ┆ 4.71488     ┆ 1.0     ┆ 2021 │\n",
       "│ 20210112 ┆ 1    ┆ 15.82  ┆ 48.54194 ┆ … ┆ 5.08334    ┆ 4.63254     ┆ 1.16    ┆ 2021 │\n",
       "│ 20210112 ┆ 2    ┆ 19.0   ┆ 47.89552 ┆ … ┆ 4.56703    ┆ 3.70295     ┆ 1.26    ┆ 2021 │\n",
       "│ 20210112 ┆ 3    ┆ 24.14  ┆ 47.92218 ┆ … ┆ 4.16626    ┆ 3.60216     ┆ 1.46    ┆ 2021 │\n",
       "│ 20210112 ┆ 4    ┆ 27.0   ┆ 49.06122 ┆ … ┆ 4.05303    ┆ 3.23646     ┆ 1.68    ┆ 2021 │\n",
       "│ …        ┆ …    ┆ …      ┆ …        ┆ … ┆ …          ┆ …           ┆ …       ┆ …    │\n",
       "│ 20231001 ┆ 19   ┆ 130.0  ┆ 45.85029 ┆ … ┆ 2.78673    ┆ 2.60925     ┆ 18.88   ┆ 2023 │\n",
       "│ 20231001 ┆ 20   ┆ 130.0  ┆ 44.79807 ┆ … ┆ 2.47612    ┆ 2.09245     ┆ 17.76   ┆ 2023 │\n",
       "│ 20231001 ┆ 21   ┆ 115.16 ┆ 42.82068 ┆ … ┆ 2.22223    ┆ 2.03959     ┆ 17.0    ┆ 2023 │\n",
       "│ 20231001 ┆ 22   ┆ 106.62 ┆ 41.27068 ┆ … ┆ 2.06008    ┆ 1.8885      ┆ 16.22   ┆ 2023 │\n",
       "│ 20231001 ┆ 23   ┆ 99.97  ┆ 38.9271  ┆ … ┆ 1.94609    ┆ 1.93003     ┆ 15.6    ┆ 2023 │\n",
       "└──────────┴──────┴────────┴──────────┴───┴────────────┴─────────────┴─────────┴──────┘"
      ]
     },
     "execution_count": 6,
     "metadata": {},
     "output_type": "execute_result"
    }
   ],
   "source": [
    "# cut data\n",
    "data_full = data_full[52776:,:]\n",
    "data_full"
   ]
  },
  {
   "cell_type": "code",
   "execution_count": 11,
   "metadata": {},
   "outputs": [
    {
     "name": "stdout",
     "output_type": "stream",
     "text": [
      "909\n",
      "0\n",
      "2016\n"
     ]
    }
   ],
   "source": [
    "endd = [56*24,84*24]\n",
    "startd = [(endd[-1]-el) for el in endd]\n",
    "\n",
    "# no. of days to be predicted\n",
    "Nd = int(len(data_full)/24 - endd[-1]/24)\n",
    "print(Nd)\n",
    "\n",
    "# select one\n",
    "startd = startd[-1]\n",
    "endd = endd[-1]\n",
    "print(startd)\n",
    "print(endd)"
   ]
  },
  {
   "cell_type": "code",
   "execution_count": 12,
   "metadata": {},
   "outputs": [],
   "source": [
    "def dummies(df: pl.DataFrame, date_column: str, date_format: str) -> pl.DataFrame:\n",
    "    \n",
    "    # prepare polars series with weekdays as numbers\n",
    "    weekdays = df[date_column].cast(pl.Utf8).str.strptime(pl.Date, date_format).dt.weekday()\n",
    "\n",
    "    # add dummy columns to dataframe\n",
    "    df_with_dummies = (\n",
    "    df.with_columns((weekdays==1).cast(int).alias('mon'))\n",
    "    .with_columns((weekdays==2).cast(int).alias('tue'))\n",
    "    .with_columns((weekdays==3).cast(int).alias('wed'))\n",
    "    .with_columns((weekdays==4).cast(int).alias('thu'))\n",
    "    .with_columns((weekdays==5).cast(int).alias('fri'))\n",
    "    .with_columns((weekdays==6).cast(int).alias('sat'))\n",
    "    .with_columns((weekdays==7).cast(int).alias('sun'))\n",
    "    )\n",
    "\n",
    "    return df_with_dummies"
   ]
  },
  {
   "cell_type": "code",
   "execution_count": 14,
   "metadata": {},
   "outputs": [
    {
     "data": {
      "text/html": [
       "<div><style>\n",
       ".dataframe > thead > tr,\n",
       ".dataframe > tbody > tr {\n",
       "  text-align: right;\n",
       "  white-space: pre-wrap;\n",
       "}\n",
       "</style>\n",
       "<small>shape: (23_832, 20)</small><table border=\"1\" class=\"dataframe\"><thead><tr><th>Date</th><th>Hour</th><th>Price</th><th>Load_DA</th><th>Load_Act</th><th>Solar_DA</th><th>Solar_Act</th><th>WindOn_DA</th><th>WindOn_Act</th><th>WindOff_DA</th><th>WindOff_Act</th><th>Temp_DA</th><th>Year</th><th>mon</th><th>tue</th><th>wed</th><th>thu</th><th>fri</th><th>sat</th><th>sun</th></tr><tr><td>i64</td><td>i64</td><td>f64</td><td>f64</td><td>f64</td><td>f64</td><td>f64</td><td>f64</td><td>f64</td><td>f64</td><td>f64</td><td>f64</td><td>i64</td><td>i64</td><td>i64</td><td>i64</td><td>i64</td><td>i64</td><td>i64</td><td>i64</td></tr></thead><tbody><tr><td>20210112</td><td>0</td><td>18.96</td><td>50.84298</td><td>59.75995</td><td>0.0</td><td>0.0</td><td>33.522</td><td>32.99134</td><td>5.2638</td><td>4.71488</td><td>1.0</td><td>2021</td><td>0</td><td>1</td><td>0</td><td>0</td><td>0</td><td>0</td><td>0</td></tr><tr><td>20210112</td><td>1</td><td>15.82</td><td>48.54194</td><td>58.14762</td><td>0.0</td><td>0.0</td><td>33.86269</td><td>33.58869</td><td>5.08334</td><td>4.63254</td><td>1.16</td><td>2021</td><td>0</td><td>1</td><td>0</td><td>0</td><td>0</td><td>0</td><td>0</td></tr><tr><td>20210112</td><td>2</td><td>19.0</td><td>47.89552</td><td>56.97078</td><td>0.0</td><td>0.0</td><td>33.9029</td><td>32.90247</td><td>4.56703</td><td>3.70295</td><td>1.26</td><td>2021</td><td>0</td><td>1</td><td>0</td><td>0</td><td>0</td><td>0</td><td>0</td></tr><tr><td>20210112</td><td>3</td><td>24.14</td><td>47.92218</td><td>56.91989</td><td>0.0</td><td>0.0</td><td>33.31623</td><td>31.5854</td><td>4.16626</td><td>3.60216</td><td>1.46</td><td>2021</td><td>0</td><td>1</td><td>0</td><td>0</td><td>0</td><td>0</td><td>0</td></tr><tr><td>20210112</td><td>4</td><td>27.0</td><td>49.06122</td><td>58.05438</td><td>0.0</td><td>0.0</td><td>32.03167</td><td>30.1555</td><td>4.05303</td><td>3.23646</td><td>1.68</td><td>2021</td><td>0</td><td>1</td><td>0</td><td>0</td><td>0</td><td>0</td><td>0</td></tr><tr><td>&hellip;</td><td>&hellip;</td><td>&hellip;</td><td>&hellip;</td><td>&hellip;</td><td>&hellip;</td><td>&hellip;</td><td>&hellip;</td><td>&hellip;</td><td>&hellip;</td><td>&hellip;</td><td>&hellip;</td><td>&hellip;</td><td>&hellip;</td><td>&hellip;</td><td>&hellip;</td><td>&hellip;</td><td>&hellip;</td><td>&hellip;</td><td>&hellip;</td></tr><tr><td>20231001</td><td>19</td><td>130.0</td><td>45.85029</td><td>48.01121</td><td>0.01088</td><td>0.00331</td><td>7.94233</td><td>5.62464</td><td>2.78673</td><td>2.60925</td><td>18.88</td><td>2023</td><td>0</td><td>0</td><td>0</td><td>0</td><td>0</td><td>0</td><td>1</td></tr><tr><td>20231001</td><td>20</td><td>130.0</td><td>44.79807</td><td>46.51472</td><td>0.0</td><td>0.0</td><td>8.20989</td><td>6.38471</td><td>2.47612</td><td>2.09245</td><td>17.76</td><td>2023</td><td>0</td><td>0</td><td>0</td><td>0</td><td>0</td><td>0</td><td>1</td></tr><tr><td>20231001</td><td>21</td><td>115.16</td><td>42.82068</td><td>43.97374</td><td>0.0</td><td>0.0</td><td>8.36224</td><td>6.97915</td><td>2.22223</td><td>2.03959</td><td>17.0</td><td>2023</td><td>0</td><td>0</td><td>0</td><td>0</td><td>0</td><td>0</td><td>1</td></tr><tr><td>20231001</td><td>22</td><td>106.62</td><td>41.27068</td><td>42.17465</td><td>0.0</td><td>0.0</td><td>8.36047</td><td>7.16146</td><td>2.06008</td><td>1.8885</td><td>16.22</td><td>2023</td><td>0</td><td>0</td><td>0</td><td>0</td><td>0</td><td>0</td><td>1</td></tr><tr><td>20231001</td><td>23</td><td>99.97</td><td>38.9271</td><td>39.66824</td><td>0.0</td><td>0.0</td><td>8.26506</td><td>7.10472</td><td>1.94609</td><td>1.93003</td><td>15.6</td><td>2023</td><td>0</td><td>0</td><td>0</td><td>0</td><td>0</td><td>0</td><td>1</td></tr></tbody></table></div>"
      ],
      "text/plain": [
       "shape: (23_832, 20)\n",
       "┌──────────┬──────┬────────┬──────────┬───┬─────┬─────┬─────┬─────┐\n",
       "│ Date     ┆ Hour ┆ Price  ┆ Load_DA  ┆ … ┆ thu ┆ fri ┆ sat ┆ sun │\n",
       "│ ---      ┆ ---  ┆ ---    ┆ ---      ┆   ┆ --- ┆ --- ┆ --- ┆ --- │\n",
       "│ i64      ┆ i64  ┆ f64    ┆ f64      ┆   ┆ i64 ┆ i64 ┆ i64 ┆ i64 │\n",
       "╞══════════╪══════╪════════╪══════════╪═══╪═════╪═════╪═════╪═════╡\n",
       "│ 20210112 ┆ 0    ┆ 18.96  ┆ 50.84298 ┆ … ┆ 0   ┆ 0   ┆ 0   ┆ 0   │\n",
       "│ 20210112 ┆ 1    ┆ 15.82  ┆ 48.54194 ┆ … ┆ 0   ┆ 0   ┆ 0   ┆ 0   │\n",
       "│ 20210112 ┆ 2    ┆ 19.0   ┆ 47.89552 ┆ … ┆ 0   ┆ 0   ┆ 0   ┆ 0   │\n",
       "│ 20210112 ┆ 3    ┆ 24.14  ┆ 47.92218 ┆ … ┆ 0   ┆ 0   ┆ 0   ┆ 0   │\n",
       "│ 20210112 ┆ 4    ┆ 27.0   ┆ 49.06122 ┆ … ┆ 0   ┆ 0   ┆ 0   ┆ 0   │\n",
       "│ …        ┆ …    ┆ …      ┆ …        ┆ … ┆ …   ┆ …   ┆ …   ┆ …   │\n",
       "│ 20231001 ┆ 19   ┆ 130.0  ┆ 45.85029 ┆ … ┆ 0   ┆ 0   ┆ 0   ┆ 1   │\n",
       "│ 20231001 ┆ 20   ┆ 130.0  ┆ 44.79807 ┆ … ┆ 0   ┆ 0   ┆ 0   ┆ 1   │\n",
       "│ 20231001 ┆ 21   ┆ 115.16 ┆ 42.82068 ┆ … ┆ 0   ┆ 0   ┆ 0   ┆ 1   │\n",
       "│ 20231001 ┆ 22   ┆ 106.62 ┆ 41.27068 ┆ … ┆ 0   ┆ 0   ┆ 0   ┆ 1   │\n",
       "│ 20231001 ┆ 23   ┆ 99.97  ┆ 38.9271  ┆ … ┆ 0   ┆ 0   ┆ 0   ┆ 1   │\n",
       "└──────────┴──────┴────────┴──────────┴───┴─────┴─────┴─────┴─────┘"
      ]
     },
     "execution_count": 14,
     "metadata": {},
     "output_type": "execute_result"
    }
   ],
   "source": [
    "data_full = dummies(data_full,'Date',\"%Y%m%d\")\n",
    "data_full"
   ]
  },
  {
   "cell_type": "code",
   "execution_count": 15,
   "metadata": {},
   "outputs": [],
   "source": [
    "def autoreg(df: pl.DataFrame, cols: list, lags: list):\n",
    "\n",
    "    # x\n",
    "    x = pl.DataFrame()\n",
    "    for c in cols:\n",
    "        vec = df.select(c)\n",
    "        for i in range(len(lags)):\n",
    "            pl_series = pl.Series(name=f'x_{c}_{lags[i]}',values=vec[(max(lags)-lags[i]):len(vec)-lags[i]])\n",
    "            x = pl.concat([x, pl_series.to_frame()], how=\"horizontal\")\n",
    "    \n",
    "    return x"
   ]
  },
  {
   "cell_type": "code",
   "execution_count": null,
   "metadata": {},
   "outputs": [],
   "source": [
    "# d=1\n",
    "# j=endd+24\n",
    "# cal_window = data_full.slice(j-24*8,9*24) #data_full.slice(startd,endd+24+24*d) "
   ]
  },
  {
   "cell_type": "code",
   "execution_count": null,
   "metadata": {},
   "outputs": [],
   "source": [
    "# model: \n",
    "\n",
    "# load(d-1) + load(d-2) + load(d-7) + solar_da(d) + windon_da(d) + windoff_da(d) + temp_da(d)"
   ]
  },
  {
   "cell_type": "code",
   "execution_count": 102,
   "metadata": {},
   "outputs": [],
   "source": [
    "# cal_window"
   ]
  },
  {
   "cell_type": "code",
   "execution_count": 106,
   "metadata": {},
   "outputs": [],
   "source": [
    "def prepare_data_LEAR(cal_window: pl.DataFrame, d: int, endd: int):\n",
    "\n",
    "    if d==0:\n",
    "        x_all = np.full((endd - 7 * 24 + 24 + 24*d, 7 * 24), np.nan)\n",
    "    else:\n",
    "        x_all = np.full((2*24, 7 * 24), np.nan)\n",
    "\n",
    "    dummies = cal_window[7*24:,'mon':'sun'].to_numpy()\n",
    "\n",
    "    # prepare Load\n",
    "    load = autoreg(cal_window,['Load_DA','Load_Act'],[1*24,2*24,7*24])\n",
    "    # change the last 14 values of x_Load_Act_24 column to \n",
    "    query = (load.with_columns(\n",
    "        pl.when(pl.arange(0, load.height) >= (load.height - 13))\n",
    "        .then(pl.col(\"x_Load_DA_24\"))\n",
    "        .otherwise(pl.col(\"x_Load_Act_24\"))\n",
    "        .alias(\"x_Load_Act_24\")\n",
    "    ).drop([x for x in load.columns if 'DA' in x])).lazy()\n",
    "    load = query.collect()\n",
    "\n",
    "    # prepare other columns\n",
    "    fundamentals = autoreg(cal_window,['Solar_DA','WindOn_DA','WindOff_DA','Temp_DA'],[0])[168:,:]\n",
    "\n",
    "    lags_all = np.concatenate((load.to_numpy(),fundamentals.to_numpy()),axis=1)\n",
    "\n",
    "    for i in range(0,len(lags_all),24):\n",
    "        day = lags_all[i:i+24,:].copy()\n",
    "        m, n = day.shape\n",
    "        day_x_r = day.reshape(1, m * n, order='F')\n",
    "        x_all[i:i+24, :] = np.tile(day_x_r, (24, 1))\n",
    "\n",
    "    x_all = np.concatenate((cal_window[7*24:,'Load_Act'].to_numpy().reshape(-1, 1),x_all,dummies),axis=1)\n",
    "\n",
    "    x = x_all[:-24,:]\n",
    "    x_fut = x_all[-24:,1:]\n",
    "    \n",
    "    return x,x_fut"
   ]
  },
  {
   "cell_type": "code",
   "execution_count": null,
   "metadata": {},
   "outputs": [],
   "source": [
    "# x,x_fut = prepare_data_LEAR(cal_window,1,endd)"
   ]
  },
  {
   "cell_type": "code",
   "execution_count": 113,
   "metadata": {},
   "outputs": [
    {
     "name": "stderr",
     "output_type": "stream",
     "text": [
      "c:\\Users\\Katarzyna Chęć\\Documents\\PhD research\\2. GAMLSS for load\\ROLCH load\\.venv\\lib\\site-packages\\rolch\\scaler.py:62: RuntimeWarning: invalid value encountered in divide\n",
      "  out[:, self.to_scale] = (x[:, self.to_scale] - self.m) / np.sqrt(self.v)\n"
     ]
    },
    {
     "ename": "SystemError",
     "evalue": "CPUDispatcher(<function online_coordinate_descent_path at 0x0000026526695AB0>) returned a result with an exception set",
     "output_type": "error",
     "traceback": [
      "\u001b[1;31m---------------------------------------------------------------------------\u001b[0m",
      "\u001b[1;31mKeyboardInterrupt\u001b[0m                         Traceback (most recent call last)",
      "File \u001b[1;32mc:\\Users\\Katarzyna Chęć\\Documents\\PhD research\\2. GAMLSS for load\\ROLCH load\\.venv\\lib\\site-packages\\numba\\core\\serialize.py:30\u001b[0m, in \u001b[0;36m_numba_unpickle\u001b[1;34m(address, bytedata, hashed)\u001b[0m\n\u001b[0;32m     27\u001b[0m _unpickled_memo \u001b[38;5;241m=\u001b[39m {}\n\u001b[1;32m---> 30\u001b[0m \u001b[38;5;28;01mdef\u001b[39;00m \u001b[38;5;21m_numba_unpickle\u001b[39m(address, bytedata, hashed):\n\u001b[0;32m     31\u001b[0m \u001b[38;5;250m    \u001b[39m\u001b[38;5;124;03m\"\"\"Used by `numba_unpickle` from _helperlib.c\u001b[39;00m\n\u001b[0;32m     32\u001b[0m \n\u001b[0;32m     33\u001b[0m \u001b[38;5;124;03m    Parameters\u001b[39;00m\n\u001b[1;32m   (...)\u001b[0m\n\u001b[0;32m     42\u001b[0m \u001b[38;5;124;03m        unpickled object\u001b[39;00m\n\u001b[0;32m     43\u001b[0m \u001b[38;5;124;03m    \"\"\"\u001b[39;00m\n",
      "\u001b[1;31mKeyboardInterrupt\u001b[0m: ",
      "\nThe above exception was the direct cause of the following exception:\n",
      "\u001b[1;31mSystemError\u001b[0m                               Traceback (most recent call last)",
      "Cell \u001b[1;32mIn[113], line 49\u001b[0m\n\u001b[0;32m     36\u001b[0m \u001b[38;5;28;01mif\u001b[39;00m d\u001b[38;5;241m==\u001b[39m\u001b[38;5;241m0\u001b[39m: \u001b[38;5;66;03m# start the estimator if d=0\u001b[39;00m\n\u001b[0;32m     37\u001b[0m     online_gamlss_lasso \u001b[38;5;241m=\u001b[39m rolch\u001b[38;5;241m.\u001b[39mOnlineGamlss(\n\u001b[0;32m     38\u001b[0m         distribution\u001b[38;5;241m=\u001b[39mrolch\u001b[38;5;241m.\u001b[39mDistributionGamma(),\n\u001b[0;32m     39\u001b[0m         method\u001b[38;5;241m=\u001b[39m\u001b[38;5;124m\"\u001b[39m\u001b[38;5;124mlasso\u001b[39m\u001b[38;5;124m\"\u001b[39m,\n\u001b[1;32m   (...)\u001b[0m\n\u001b[0;32m     46\u001b[0m         max_it_inner \u001b[38;5;241m=\u001b[39m \u001b[38;5;241m10\u001b[39m\n\u001b[0;32m     47\u001b[0m     )\n\u001b[1;32m---> 49\u001b[0m     \u001b[43monline_gamlss_lasso\u001b[49m\u001b[38;5;241;43m.\u001b[39;49m\u001b[43mfit\u001b[49m\u001b[43m(\u001b[49m\u001b[43mX\u001b[49m\u001b[43m,\u001b[49m\u001b[43m \u001b[49m\u001b[43my\u001b[49m\u001b[43m)\u001b[49m\n\u001b[0;32m     51\u001b[0m     hours_ols[h] \u001b[38;5;241m=\u001b[39m online_gamlss_lasso\n\u001b[0;32m     53\u001b[0m \u001b[38;5;28;01melse\u001b[39;00m: \u001b[38;5;66;03m# update the estimator if d!=0\u001b[39;00m\n",
      "File \u001b[1;32mc:\\Users\\Katarzyna Chęć\\Documents\\PhD research\\2. GAMLSS for load\\ROLCH load\\.venv\\lib\\site-packages\\rolch\\online_gamlss.py:408\u001b[0m, in \u001b[0;36mOnlineGamlss.fit\u001b[1;34m(self, X, y, sample_weight)\u001b[0m\n\u001b[0;32m    394\u001b[0m \u001b[38;5;28mself\u001b[39m\u001b[38;5;241m.\u001b[39mmean_of_weights \u001b[38;5;241m=\u001b[39m {}\n\u001b[0;32m    396\u001b[0m \u001b[38;5;66;03m# TODO: Refactor this. Almost everything can be written into class attributes during fit!\u001b[39;00m\n\u001b[0;32m    397\u001b[0m (\n\u001b[0;32m    398\u001b[0m     \u001b[38;5;28mself\u001b[39m\u001b[38;5;241m.\u001b[39mbetas,\n\u001b[0;32m    399\u001b[0m     \u001b[38;5;28mself\u001b[39m\u001b[38;5;241m.\u001b[39mbeta_path,\n\u001b[0;32m    400\u001b[0m     \u001b[38;5;28mself\u001b[39m\u001b[38;5;241m.\u001b[39mfv,\n\u001b[0;32m    401\u001b[0m     \u001b[38;5;28mself\u001b[39m\u001b[38;5;241m.\u001b[39mglobal_dev,\n\u001b[0;32m    402\u001b[0m     \u001b[38;5;28mself\u001b[39m\u001b[38;5;241m.\u001b[39miteration_outer,\n\u001b[0;32m    403\u001b[0m     \u001b[38;5;28mself\u001b[39m\u001b[38;5;241m.\u001b[39mx_gram,\n\u001b[0;32m    404\u001b[0m     \u001b[38;5;28mself\u001b[39m\u001b[38;5;241m.\u001b[39my_gram,\n\u001b[0;32m    405\u001b[0m     \u001b[38;5;28mself\u001b[39m\u001b[38;5;241m.\u001b[39mrss,\n\u001b[0;32m    406\u001b[0m     \u001b[38;5;28mself\u001b[39m\u001b[38;5;241m.\u001b[39mlambda_path,\n\u001b[0;32m    407\u001b[0m     \u001b[38;5;28mself\u001b[39m\u001b[38;5;241m.\u001b[39mlambda_max,\n\u001b[1;32m--> 408\u001b[0m ) \u001b[38;5;241m=\u001b[39m \u001b[38;5;28;43mself\u001b[39;49m\u001b[38;5;241;43m.\u001b[39;49m\u001b[43m_outer_fit\u001b[49m\u001b[43m(\u001b[49m\n\u001b[0;32m    409\u001b[0m \u001b[43m    \u001b[49m\u001b[43mX\u001b[49m\u001b[38;5;241;43m=\u001b[39;49m\u001b[43mX_dict\u001b[49m\u001b[43m,\u001b[49m\n\u001b[0;32m    410\u001b[0m \u001b[43m    \u001b[49m\u001b[43my\u001b[49m\u001b[38;5;241;43m=\u001b[39;49m\u001b[43my\u001b[49m\u001b[43m,\u001b[49m\n\u001b[0;32m    411\u001b[0m \u001b[43m    \u001b[49m\u001b[43mw\u001b[49m\u001b[38;5;241;43m=\u001b[39;49m\u001b[43mw\u001b[49m\u001b[43m,\u001b[49m\n\u001b[0;32m    412\u001b[0m \u001b[43m    \u001b[49m\u001b[43mx_gram\u001b[49m\u001b[38;5;241;43m=\u001b[39;49m\u001b[43mx_gram\u001b[49m\u001b[43m,\u001b[49m\n\u001b[0;32m    413\u001b[0m \u001b[43m    \u001b[49m\u001b[43my_gram\u001b[49m\u001b[38;5;241;43m=\u001b[39;49m\u001b[43my_gram\u001b[49m\u001b[43m,\u001b[49m\n\u001b[0;32m    414\u001b[0m \u001b[43m    \u001b[49m\u001b[43mbeta_path\u001b[49m\u001b[38;5;241;43m=\u001b[39;49m\u001b[43mbeta_path\u001b[49m\u001b[43m,\u001b[49m\n\u001b[0;32m    415\u001b[0m \u001b[43m    \u001b[49m\u001b[43mrss\u001b[49m\u001b[38;5;241;43m=\u001b[39;49m\u001b[43mrss\u001b[49m\u001b[43m,\u001b[49m\n\u001b[0;32m    416\u001b[0m \u001b[43m    \u001b[49m\u001b[43mlambda_max\u001b[49m\u001b[38;5;241;43m=\u001b[39;49m\u001b[43m{\u001b[49m\u001b[43m}\u001b[49m\u001b[43m,\u001b[49m\n\u001b[0;32m    417\u001b[0m \u001b[43m    \u001b[49m\u001b[43mlambda_path\u001b[49m\u001b[38;5;241;43m=\u001b[39;49m\u001b[43m{\u001b[49m\u001b[43m}\u001b[49m\u001b[43m,\u001b[49m\n\u001b[0;32m    418\u001b[0m \u001b[43m    \u001b[49m\u001b[43mfv\u001b[49m\u001b[38;5;241;43m=\u001b[39;49m\u001b[43mfv\u001b[49m\u001b[43m,\u001b[49m\n\u001b[0;32m    419\u001b[0m \u001b[43m\u001b[49m\u001b[43m)\u001b[49m\n",
      "File \u001b[1;32mc:\\Users\\Katarzyna Chęć\\Documents\\PhD research\\2. GAMLSS for load\\ROLCH load\\.venv\\lib\\site-packages\\rolch\\online_gamlss.py:616\u001b[0m, in \u001b[0;36mOnlineGamlss._outer_fit\u001b[1;34m(self, X, y, w, x_gram, y_gram, beta_path, rss, lambda_max, lambda_path, fv)\u001b[0m\n\u001b[0;32m    603\u001b[0m \u001b[38;5;28mself\u001b[39m\u001b[38;5;241m.\u001b[39mrss_iterations_inner[param][iteration_outer] \u001b[38;5;241m=\u001b[39m {}\n\u001b[0;32m    604\u001b[0m \u001b[38;5;28mself\u001b[39m\u001b[38;5;241m.\u001b[39mic_iterations_inner[param][iteration_outer] \u001b[38;5;241m=\u001b[39m {}\n\u001b[0;32m    606\u001b[0m (\n\u001b[0;32m    607\u001b[0m     fv,\n\u001b[0;32m    608\u001b[0m     global_dev,\n\u001b[0;32m    609\u001b[0m     betas[param],\n\u001b[0;32m    610\u001b[0m     beta_path[param],\n\u001b[0;32m    611\u001b[0m     x_gram,\n\u001b[0;32m    612\u001b[0m     y_gram,\n\u001b[0;32m    613\u001b[0m     rss[param],\n\u001b[0;32m    614\u001b[0m     lambda_max[param],\n\u001b[0;32m    615\u001b[0m     lambda_path[param],\n\u001b[1;32m--> 616\u001b[0m ) \u001b[38;5;241m=\u001b[39m \u001b[38;5;28;43mself\u001b[39;49m\u001b[38;5;241;43m.\u001b[39;49m\u001b[43m_inner_fit\u001b[49m\u001b[43m(\u001b[49m\n\u001b[0;32m    617\u001b[0m \u001b[43m    \u001b[49m\u001b[43mX\u001b[49m\u001b[38;5;241;43m=\u001b[39;49m\u001b[43mX\u001b[49m\u001b[43m,\u001b[49m\n\u001b[0;32m    618\u001b[0m \u001b[43m    \u001b[49m\u001b[43my\u001b[49m\u001b[38;5;241;43m=\u001b[39;49m\u001b[43my\u001b[49m\u001b[43m,\u001b[49m\n\u001b[0;32m    619\u001b[0m \u001b[43m    \u001b[49m\u001b[43mbeta_path\u001b[49m\u001b[38;5;241;43m=\u001b[39;49m\u001b[43mbeta_path\u001b[49m\u001b[43m[\u001b[49m\u001b[43mparam\u001b[49m\u001b[43m]\u001b[49m\u001b[43m,\u001b[49m\n\u001b[0;32m    620\u001b[0m \u001b[43m    \u001b[49m\u001b[43mfv\u001b[49m\u001b[38;5;241;43m=\u001b[39;49m\u001b[43mfv\u001b[49m\u001b[43m,\u001b[49m\n\u001b[0;32m    621\u001b[0m \u001b[43m    \u001b[49m\u001b[43mw\u001b[49m\u001b[38;5;241;43m=\u001b[39;49m\u001b[43mw\u001b[49m\u001b[43m,\u001b[49m\n\u001b[0;32m    622\u001b[0m \u001b[43m    \u001b[49m\u001b[43mx_gram\u001b[49m\u001b[38;5;241;43m=\u001b[39;49m\u001b[43mx_gram\u001b[49m\u001b[43m,\u001b[49m\n\u001b[0;32m    623\u001b[0m \u001b[43m    \u001b[49m\u001b[43my_gram\u001b[49m\u001b[38;5;241;43m=\u001b[39;49m\u001b[43my_gram\u001b[49m\u001b[43m,\u001b[49m\n\u001b[0;32m    624\u001b[0m \u001b[43m    \u001b[49m\u001b[43mparam\u001b[49m\u001b[38;5;241;43m=\u001b[39;49m\u001b[43mparam\u001b[49m\u001b[43m,\u001b[49m\n\u001b[0;32m    625\u001b[0m \u001b[43m    \u001b[49m\u001b[43miteration_outer\u001b[49m\u001b[38;5;241;43m=\u001b[39;49m\u001b[43miteration_outer\u001b[49m\u001b[43m,\u001b[49m\n\u001b[0;32m    626\u001b[0m \u001b[43m    \u001b[49m\u001b[43mdv\u001b[49m\u001b[38;5;241;43m=\u001b[39;49m\u001b[43mglobal_dev\u001b[49m\u001b[43m,\u001b[49m\n\u001b[0;32m    627\u001b[0m \u001b[43m    \u001b[49m\u001b[43mbetas\u001b[49m\u001b[38;5;241;43m=\u001b[39;49m\u001b[43mbetas\u001b[49m\u001b[43m,\u001b[49m\n\u001b[0;32m    628\u001b[0m \u001b[43m    \u001b[49m\u001b[43mrss\u001b[49m\u001b[38;5;241;43m=\u001b[39;49m\u001b[43mrss\u001b[49m\u001b[43m,\u001b[49m\n\u001b[0;32m    629\u001b[0m \u001b[43m    \u001b[49m\u001b[43mlambda_max\u001b[49m\u001b[38;5;241;43m=\u001b[39;49m\u001b[43mlambda_max\u001b[49m\u001b[43m,\u001b[49m\n\u001b[0;32m    630\u001b[0m \u001b[43m    \u001b[49m\u001b[43mlambda_path\u001b[49m\u001b[38;5;241;43m=\u001b[39;49m\u001b[43mlambda_path\u001b[49m\u001b[43m,\u001b[49m\n\u001b[0;32m    631\u001b[0m \u001b[43m\u001b[49m\u001b[43m)\u001b[49m\n\u001b[0;32m    633\u001b[0m \u001b[38;5;28mself\u001b[39m\u001b[38;5;241m.\u001b[39mbeta_iterations[param][iteration_outer] \u001b[38;5;241m=\u001b[39m betas[param]\n\u001b[0;32m    634\u001b[0m \u001b[38;5;28mself\u001b[39m\u001b[38;5;241m.\u001b[39mbeta_path_iterations[param][iteration_outer] \u001b[38;5;241m=\u001b[39m beta_path[param]\n",
      "File \u001b[1;32mc:\\Users\\Katarzyna Chęć\\Documents\\PhD research\\2. GAMLSS for load\\ROLCH load\\.venv\\lib\\site-packages\\rolch\\online_gamlss.py:711\u001b[0m, in \u001b[0;36mOnlineGamlss._inner_fit\u001b[1;34m(self, X, y, w, x_gram, y_gram, beta_path, fv, iteration_outer, param, rss, dv, betas, lambda_max, lambda_path)\u001b[0m\n\u001b[0;32m    708\u001b[0m x_gram[param] \u001b[38;5;241m=\u001b[39m \u001b[38;5;28mself\u001b[39m\u001b[38;5;241m.\u001b[39m_make_x_gram(x\u001b[38;5;241m=\u001b[39mX[param], w\u001b[38;5;241m=\u001b[39m(w \u001b[38;5;241m*\u001b[39m wt), param\u001b[38;5;241m=\u001b[39mparam)\n\u001b[0;32m    709\u001b[0m y_gram[param] \u001b[38;5;241m=\u001b[39m \u001b[38;5;28mself\u001b[39m\u001b[38;5;241m.\u001b[39m_make_y_gram(x\u001b[38;5;241m=\u001b[39mX[param], y\u001b[38;5;241m=\u001b[39mwv, w\u001b[38;5;241m=\u001b[39m(w \u001b[38;5;241m*\u001b[39m wt), param\u001b[38;5;241m=\u001b[39mparam)\n\u001b[0;32m    710\u001b[0m beta_new, beta_path_new, rss_new, lambda_max_new, lambda_path_new \u001b[38;5;241m=\u001b[39m (\n\u001b[1;32m--> 711\u001b[0m     \u001b[38;5;28;43mself\u001b[39;49m\u001b[38;5;241;43m.\u001b[39;49m\u001b[43mfit_beta\u001b[49m\u001b[43m(\u001b[49m\n\u001b[0;32m    712\u001b[0m \u001b[43m        \u001b[49m\u001b[43mx_gram\u001b[49m\u001b[43m[\u001b[49m\u001b[43mparam\u001b[49m\u001b[43m]\u001b[49m\u001b[43m,\u001b[49m\n\u001b[0;32m    713\u001b[0m \u001b[43m        \u001b[49m\u001b[43my_gram\u001b[49m\u001b[43m[\u001b[49m\u001b[43mparam\u001b[49m\u001b[43m]\u001b[49m\u001b[43m,\u001b[49m\n\u001b[0;32m    714\u001b[0m \u001b[43m        \u001b[49m\u001b[43mX\u001b[49m\u001b[43m[\u001b[49m\u001b[43mparam\u001b[49m\u001b[43m]\u001b[49m\u001b[43m,\u001b[49m\n\u001b[0;32m    715\u001b[0m \u001b[43m        \u001b[49m\u001b[43mwv\u001b[49m\u001b[43m,\u001b[49m\n\u001b[0;32m    716\u001b[0m \u001b[43m        \u001b[49m\u001b[43mwt\u001b[49m\u001b[43m,\u001b[49m\n\u001b[0;32m    717\u001b[0m \u001b[43m        \u001b[49m\u001b[43mbeta_path\u001b[49m\u001b[43m,\u001b[49m\n\u001b[0;32m    718\u001b[0m \u001b[43m        \u001b[49m\u001b[43mparam\u001b[49m\u001b[38;5;241;43m=\u001b[39;49m\u001b[43mparam\u001b[49m\u001b[43m,\u001b[49m\n\u001b[0;32m    719\u001b[0m \u001b[43m        \u001b[49m\u001b[43miteration_inner\u001b[49m\u001b[38;5;241;43m=\u001b[39;49m\u001b[43miteration_inner\u001b[49m\u001b[43m,\u001b[49m\n\u001b[0;32m    720\u001b[0m \u001b[43m        \u001b[49m\u001b[43miteration_outer\u001b[49m\u001b[38;5;241;43m=\u001b[39;49m\u001b[43miteration_outer\u001b[49m\u001b[43m,\u001b[49m\n\u001b[0;32m    721\u001b[0m \u001b[43m    \u001b[49m\u001b[43m)\u001b[49m\n\u001b[0;32m    722\u001b[0m )\n\u001b[0;32m    724\u001b[0m \u001b[38;5;28;01mif\u001b[39;00m iteration_inner \u001b[38;5;241m>\u001b[39m \u001b[38;5;241m1\u001b[39m \u001b[38;5;129;01mor\u001b[39;00m iteration_outer \u001b[38;5;241m>\u001b[39m \u001b[38;5;241m1\u001b[39m:\n\u001b[0;32m    726\u001b[0m     \u001b[38;5;28;01mif\u001b[39;00m \u001b[38;5;28mself\u001b[39m\u001b[38;5;241m.\u001b[39mmethod \u001b[38;5;241m==\u001b[39m \u001b[38;5;124m\"\u001b[39m\u001b[38;5;124mols\u001b[39m\u001b[38;5;124m\"\u001b[39m \u001b[38;5;129;01mor\u001b[39;00m \u001b[38;5;28mself\u001b[39m\u001b[38;5;241m.\u001b[39m_is_intercept_only(param\u001b[38;5;241m=\u001b[39mparam):\n",
      "File \u001b[1;32mc:\\Users\\Katarzyna Chęć\\Documents\\PhD research\\2. GAMLSS for load\\ROLCH load\\.venv\\lib\\site-packages\\rolch\\online_gamlss.py:160\u001b[0m, in \u001b[0;36mOnlineGamlss.fit_beta\u001b[1;34m(self, x_gram, y_gram, X, y, w, beta_path, iteration_outer, iteration_inner, param)\u001b[0m\n\u001b[0;32m    156\u001b[0m lambda_max \u001b[38;5;241m=\u001b[39m np\u001b[38;5;241m.\u001b[39mmax(np\u001b[38;5;241m.\u001b[39mabs(y_gram\u001b[38;5;241m.\u001b[39mflatten() \u001b[38;5;241m-\u001b[39m x_gram[\u001b[38;5;241m0\u001b[39m] \u001b[38;5;241m*\u001b[39m intercept))\n\u001b[0;32m    157\u001b[0m lambda_path \u001b[38;5;241m=\u001b[39m np\u001b[38;5;241m.\u001b[39mgeomspace(\n\u001b[0;32m    158\u001b[0m     lambda_max, lambda_max \u001b[38;5;241m*\u001b[39m \u001b[38;5;28mself\u001b[39m\u001b[38;5;241m.\u001b[39mlambda_eps[param], \u001b[38;5;28mself\u001b[39m\u001b[38;5;241m.\u001b[39mlambda_n\n\u001b[0;32m    159\u001b[0m )\n\u001b[1;32m--> 160\u001b[0m beta_path \u001b[38;5;241m=\u001b[39m \u001b[43monline_coordinate_descent_path\u001b[49m\u001b[43m(\u001b[49m\n\u001b[0;32m    161\u001b[0m \u001b[43m    \u001b[49m\u001b[43mx_gram\u001b[49m\u001b[38;5;241;43m=\u001b[39;49m\u001b[43mx_gram\u001b[49m\u001b[43m,\u001b[49m\n\u001b[0;32m    162\u001b[0m \u001b[43m    \u001b[49m\u001b[43my_gram\u001b[49m\u001b[38;5;241;43m=\u001b[39;49m\u001b[43my_gram\u001b[49m\u001b[38;5;241;43m.\u001b[39;49m\u001b[43mflatten\u001b[49m\u001b[43m(\u001b[49m\u001b[43m)\u001b[49m\u001b[43m,\u001b[49m\n\u001b[0;32m    163\u001b[0m \u001b[43m    \u001b[49m\u001b[43mbeta_path\u001b[49m\u001b[38;5;241;43m=\u001b[39;49m\u001b[43mbeta_path\u001b[49m\u001b[43m,\u001b[49m\n\u001b[0;32m    164\u001b[0m \u001b[43m    \u001b[49m\u001b[43mlambda_path\u001b[49m\u001b[38;5;241;43m=\u001b[39;49m\u001b[43mlambda_path\u001b[49m\u001b[43m,\u001b[49m\n\u001b[0;32m    165\u001b[0m \u001b[43m    \u001b[49m\u001b[43mis_regularized\u001b[49m\u001b[38;5;241;43m=\u001b[39;49m\u001b[38;5;28;43mself\u001b[39;49m\u001b[38;5;241;43m.\u001b[39;49m\u001b[43mis_regularized\u001b[49m\u001b[43m[\u001b[49m\u001b[43mparam\u001b[49m\u001b[43m]\u001b[49m\u001b[43m,\u001b[49m\n\u001b[0;32m    166\u001b[0m \u001b[43m    \u001b[49m\u001b[43mbeta_lower_bound\u001b[49m\u001b[38;5;241;43m=\u001b[39;49m\u001b[38;5;28;43mself\u001b[39;49m\u001b[38;5;241;43m.\u001b[39;49m\u001b[43mbeta_bounds\u001b[49m\u001b[43m[\u001b[49m\u001b[43mparam\u001b[49m\u001b[43m]\u001b[49m\u001b[43m[\u001b[49m\u001b[38;5;241;43m0\u001b[39;49m\u001b[43m]\u001b[49m\u001b[43m,\u001b[49m\n\u001b[0;32m    167\u001b[0m \u001b[43m    \u001b[49m\u001b[43mbeta_upper_bound\u001b[49m\u001b[38;5;241;43m=\u001b[39;49m\u001b[38;5;28;43mself\u001b[39;49m\u001b[38;5;241;43m.\u001b[39;49m\u001b[43mbeta_bounds\u001b[49m\u001b[43m[\u001b[49m\u001b[43mparam\u001b[49m\u001b[43m]\u001b[49m\u001b[43m[\u001b[49m\u001b[38;5;241;43m1\u001b[39;49m\u001b[43m]\u001b[49m\u001b[43m,\u001b[49m\n\u001b[0;32m    168\u001b[0m \u001b[43m    \u001b[49m\u001b[43mwhich_start_value\u001b[49m\u001b[38;5;241;43m=\u001b[39;49m\u001b[38;5;124;43m\"\u001b[39;49m\u001b[38;5;124;43mprevious_lambda\u001b[39;49m\u001b[38;5;124;43m\"\u001b[39;49m\u001b[43m,\u001b[49m\n\u001b[0;32m    169\u001b[0m \u001b[43m    \u001b[49m\u001b[43mselection\u001b[49m\u001b[38;5;241;43m=\u001b[39;49m\u001b[38;5;124;43m\"\u001b[39;49m\u001b[38;5;124;43mcyclic\u001b[39;49m\u001b[38;5;124;43m\"\u001b[39;49m\u001b[43m,\u001b[49m\n\u001b[0;32m    170\u001b[0m \u001b[43m    \u001b[49m\u001b[43mtolerance\u001b[49m\u001b[38;5;241;43m=\u001b[39;49m\u001b[38;5;28;43mself\u001b[39;49m\u001b[38;5;241;43m.\u001b[39;49m\u001b[43mtolerance\u001b[49m\u001b[43m,\u001b[49m\n\u001b[0;32m    171\u001b[0m \u001b[43m    \u001b[49m\u001b[43mmax_iterations\u001b[49m\u001b[38;5;241;43m=\u001b[39;49m\u001b[38;5;28;43mself\u001b[39;49m\u001b[38;5;241;43m.\u001b[39;49m\u001b[43mmax_iterations\u001b[49m\u001b[43m,\u001b[49m\n\u001b[0;32m    172\u001b[0m \u001b[43m\u001b[49m\u001b[43m)\u001b[49m[\u001b[38;5;241m0\u001b[39m]\n\u001b[0;32m    174\u001b[0m residuals \u001b[38;5;241m=\u001b[39m y[:, \u001b[38;5;28;01mNone\u001b[39;00m] \u001b[38;5;241m-\u001b[39m X \u001b[38;5;241m@\u001b[39m beta_path\u001b[38;5;241m.\u001b[39mT\n\u001b[0;32m    176\u001b[0m rss \u001b[38;5;241m=\u001b[39m np\u001b[38;5;241m.\u001b[39msum(residuals\u001b[38;5;241m*\u001b[39m\u001b[38;5;241m*\u001b[39m\u001b[38;5;241m2\u001b[39m \u001b[38;5;241m*\u001b[39m w[:, \u001b[38;5;28;01mNone\u001b[39;00m] \u001b[38;5;241m*\u001b[39m f[:, \u001b[38;5;28;01mNone\u001b[39;00m], axis\u001b[38;5;241m=\u001b[39m\u001b[38;5;241m0\u001b[39m) \u001b[38;5;241m/\u001b[39m np\u001b[38;5;241m.\u001b[39mmean(\n\u001b[0;32m    177\u001b[0m     w \u001b[38;5;241m*\u001b[39m f\n\u001b[0;32m    178\u001b[0m )\n",
      "\u001b[1;31mSystemError\u001b[0m: CPUDispatcher(<function online_coordinate_descent_path at 0x0000026526695AB0>) returned a result with an exception set"
     ]
    }
   ],
   "source": [
    "# ROLCH estimation\n",
    "\n",
    "all_results_mean = pl.Series(dtype=pl.Float64)\n",
    "all_results_std = pl.Series(dtype=pl.Float64)\n",
    "\n",
    "equation = {\n",
    "    0: \"all\",\n",
    "    1: \"all\",\n",
    "}\n",
    "\n",
    "hours_ols = {}\n",
    "\n",
    "j=endd\n",
    "\n",
    "for d in range(0,Nd):\n",
    "    arr_temp_mean = np.zeros(24)\n",
    "    arr_temp_std = np.zeros(24)\n",
    "    if d==0:\n",
    "        data_roll = data_full.slice(startd,endd+24) # data_full.slice(startd+24*d,endd+24)\n",
    "    else:\n",
    "        data_roll = data_full.slice(j-24*8,9*24)\n",
    "\n",
    "    # prepare data\n",
    "    x,x_fut = prepare_data_LEAR(cal_window=data_roll,d=d,endd=endd)\n",
    "\n",
    "    # loop over hours\n",
    "    for h in range(0,24):\n",
    "\n",
    "        # get subsets for hour h\n",
    "        data_h = x[h::24]\n",
    "        data_h_fut = x_fut[h::24]\n",
    "\n",
    "        y = data_h[:,0]\n",
    "        X = data_h[:,1:]\n",
    "\n",
    "        if d==0: # start the estimator if d=0\n",
    "            online_gamlss_lasso = rolch.OnlineGamlss(\n",
    "                distribution=rolch.DistributionGamma(),\n",
    "                method=\"lasso\",\n",
    "                scale_inputs=True,\n",
    "                equation=equation,\n",
    "                fit_intercept=True,\n",
    "                forget=1/endd,\n",
    "                estimation_kwargs={\"ic\": {i: \"aic\" for i in range(rolch.DistributionGamma().n_params)}},\n",
    "                max_it_outer = 5,\n",
    "                max_it_inner = 10\n",
    "            )\n",
    "\n",
    "            online_gamlss_lasso.fit(X, y)\n",
    "\n",
    "            hours_ols[h] = online_gamlss_lasso\n",
    "\n",
    "        else: # update the estimator if d!=0\n",
    "            X_update = X[[-1],:]\n",
    "            y_update = y[[-1]]\n",
    "\n",
    "            online_gamlss_lasso = hours_ols[h]\n",
    "            online_gamlss_lasso.update(X_update,y_update)\n",
    "            hours_ols[h] = online_gamlss_lasso\n",
    "\n",
    "        prog = online_gamlss_lasso.predict(\n",
    "            X=data_h_fut\n",
    "        )\n",
    "\n",
    "        arr_temp_mean[h] = prog[0][0]\n",
    "        arr_temp_std[h] = prog[0][1]\n",
    "\n",
    "    all_results_mean = pl.concat(\n",
    "        [all_results_mean,pl.Series(np.array(arr_temp_mean))],how='vertical'\n",
    "    )\n",
    "\n",
    "    all_results_std = pl.concat(\n",
    "        [all_results_std,pl.Series(np.array(arr_temp_std))],how='vertical'\n",
    "    )\n",
    "\n",
    "    j=j+24 # for the loop over days\n",
    "\n",
    "    if d % 50 == 0:\n",
    "        print(d)"
   ]
  },
  {
   "cell_type": "code",
   "execution_count": null,
   "metadata": {},
   "outputs": [],
   "source": [
    "q_results = data_full.select('Date','Hour','Load_Act')[(startd+endd):].with_columns(\n",
    "    all_results_mean.alias('prediction_mean'),\n",
    "    all_results_std.alias('prediction_std')).lazy()\n",
    "results = q_results.collect()"
   ]
  },
  {
   "cell_type": "code",
   "execution_count": null,
   "metadata": {},
   "outputs": [],
   "source": [
    "results.write_csv(f'DE_lasso_gamlss_load_{endd}.csv')"
   ]
  }
 ],
 "metadata": {
  "kernelspec": {
   "display_name": ".venv",
   "language": "python",
   "name": "python3"
  },
  "language_info": {
   "codemirror_mode": {
    "name": "ipython",
    "version": 3
   },
   "file_extension": ".py",
   "mimetype": "text/x-python",
   "name": "python",
   "nbconvert_exporter": "python",
   "pygments_lexer": "ipython3",
   "version": "3.10.11"
  }
 },
 "nbformat": 4,
 "nbformat_minor": 2
}
